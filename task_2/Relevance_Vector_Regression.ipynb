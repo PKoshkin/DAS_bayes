{
 "cells": [
  {
   "cell_type": "markdown",
   "metadata": {},
   "source": [
    "# Лабораторная работа по Relevance Vector Regression\n",
    "В рамках этой лабораторной работы необходимо:\n",
    "- Имплементировать Relevance Vector Regression\n",
    "- Применить на синетическом датасете (восстановление полинома), сравнить с Lasso из sklearn и гребневой регрессией\n",
    "- Применить на данных sinc с RBF признаками, визуализировать \"релевантные вектора\", сравнить с Support Vector Regression и Lasso\n",
    "- Сделать выводы"
   ]
  },
  {
   "cell_type": "code",
   "execution_count": 1,
   "metadata": {},
   "outputs": [],
   "source": [
    "import numpy as np\n",
    "from scipy.linalg import inv\n",
    "from matplotlib import pyplot as plt\n",
    "from IPython.display import clear_output\n",
    "\n",
    "%matplotlib inline\n",
    "np.random.seed(123)\n",
    "\n",
    "def l2_error(X, t, w):\n",
    "    return np.sum((X.dot(w.ravel()) - t) ** 2)"
   ]
  },
  {
   "cell_type": "markdown",
   "metadata": {},
   "source": [
    "## Имплементация Relevance Vector Regression\n",
    "\n",
    "Здесь необходимо реализовать три функции:\n",
    "\n",
    "1. `get_w_sigma(X, t, alpha, beta)`, которая принимает датасет (X, t) и гиперпараметры RVR (alpha, beta) и возвращает параметры апостериорного распределения mu, sigma\n",
    "2. `update_alpha_beta(X, t, alpha, beta)`, которая принимает датасет (X, t) и гиперпараметры RVR (alpha, beta) и делает один шаг итерационной процедуры для обновления гиперпараметров (было на лекции)\n",
    "3. `fit_rvr(X, t, max_iters)`, которая принимает датасет (X, t) и максимальное количество итераций и возвращает обученные гиперпараметры и параметры апостериорного распределения на веса модели\n",
    "\n",
    "На что стоит обратить внимание:\n",
    "\n",
    "1. Результаты дорогостоящих операций типа перемножения одних и тех же матриц можно кешировать и переиспользовать\n",
    "2. $\\alpha$-ы для нерелевантных объектов должны принять значение `np.inf`, а соответствующие веса и их дисперсии должны иметь значение 0\n",
    "3. Бесконечности и нули из предыдущего пункта должны обрабатываться корректно, без NaN-ов и warning-ов\n",
    "4. Матрицу с бесконечными элементами на диагонали можно обращать более эффективно (достаточно обратить подматрицу)"
   ]
  },
  {
   "cell_type": "code",
   "execution_count": 2,
   "metadata": {},
   "outputs": [],
   "source": [
    "def is_nan(number):\n",
    "    #return np.isinf(number)\n",
    "    return np.isnan(number) or np.isinf(number)\n",
    "\n",
    "def get_w_sigma(X, t, alpha, beta, inf_indices):\n",
    "    \"\"\"Calculate the mean and the covariance matrix\n",
    "       of the posterior distribution\"\"\"\n",
    "    n, d = X.shape\n",
    "\n",
    "    # YOUR CODE GOES HERE\n",
    "    not_inf_indices_array = sorted([\n",
    "        index for index in range(len(alpha)) if index not in inf_indices\n",
    "    ])\n",
    "    inf_indices_array = sorted([\n",
    "        index for index in range(len(alpha)) if index in inf_indices\n",
    "    ])\n",
    "\n",
    "    cutted_X = X[:, not_inf_indices_array]\n",
    "    cutted_alpha = alpha[not_inf_indices_array]\n",
    "    \n",
    "    #print(len(not_inf_indices_array), len(inf_indices_array))\n",
    "    #print(beta * (cutted_X.T @ cutted_X) + np.diag(cutted_alpha))\n",
    "    \n",
    "    cutted_sigma = inv(beta * (cutted_X.T @ cutted_X) + np.diag(cutted_alpha))\n",
    "    cutted_w = beta * cutted_sigma @ cutted_X.T @ t\n",
    "    \n",
    "    sigma = np.zeros([d, d])\n",
    "    sigma_indices = np.full(np.shape(sigma), True)\n",
    "    sigma_indices[inf_indices_array, :] = False\n",
    "    sigma_indices[:, inf_indices_array] = False\n",
    "    sigma[sigma_indices] = np.ravel(cutted_sigma)\n",
    "\n",
    "    w = np.zeros(d)\n",
    "    w[not_inf_indices_array] = cutted_w\n",
    "    \n",
    "    return w, sigma\n",
    "\n",
    "\n",
    "def update_alpha_beta(X, t, alpha, beta, inf_indices):\n",
    "    \"\"\"Update the hyperperemeters to increase evidence\"\"\"\n",
    "\n",
    "    # YOUR CODE GOES HERE\n",
    "    w, sigma = get_w_sigma(X, t, alpha, beta, inf_indices)\n",
    "    n, d = np.shape(X)\n",
    "    \n",
    "    def devide(a, b):\n",
    "        if a == b:\n",
    "            result = 1\n",
    "        elif b == 0:\n",
    "            result = np.inf if a > 0 else -np.inf\n",
    "        elif np.isinf(b):\n",
    "            result = 0\n",
    "        else:\n",
    "            #print(\" devision:\", a, b, a / b)\n",
    "            result = a / b\n",
    "        return result\n",
    "            \n",
    "    not_inf_indices_array = sorted([\n",
    "        index for index in range(len(alpha)) if index not in inf_indices\n",
    "    ])\n",
    "\n",
    "    cutted_alpha_numerator = (1 - alpha[not_inf_indices_array] * np.diag(sigma)[not_inf_indices_array])\n",
    "\n",
    "    second_not_inf_indices_array = sorted([\n",
    "        index\n",
    "        for index, num in enumerate(cutted_alpha_numerator)\n",
    "        if is_nan(num)\n",
    "    ])\n",
    "    \n",
    "    if len(second_not_inf_indices_array) != 0:\n",
    "        print('-' * 50)\n",
    "        print(alpha[not_inf_indices_array])\n",
    "        print(second_not_inf_indices_array)\n",
    "        print([cutted_alpha_numerator[index] for index in second_not_inf_indices_array])\n",
    "        print([alpha[not_inf_indices_array][i] for i in second_not_inf_indices_array])\n",
    "        print([np.diag(sigma)[not_inf_indices_array][i] for i in second_not_inf_indices_array])\n",
    "        print('-' * 50)\n",
    "\n",
    "    #cutted_alpha_numerator = cutted_alpha_numerator[second_not_inf_indices_array]\n",
    "    \n",
    "    cutted_alpha_denominator = (w ** 2)[not_inf_indices_array]#[second_not_inf_indices_array]\n",
    "    #print(\" alpha lens:\", len(cutted_alpha_numerator), len(cutted_alpha_denominator))\n",
    "    #print(\"alpha calc:\", cutted_alpha_numerator, cutted_alpha_denominator)\n",
    "    cutted_alpha_new = np.array([\n",
    "        devide(numerator, denominator)\n",
    "        for numerator, denominator in zip(cutted_alpha_numerator, cutted_alpha_denominator)\n",
    "    ])\n",
    "\n",
    "    alpha_new = np.full(d, np.inf)\n",
    "    #alpha_new[not_inf_indices_array][second_not_inf_indices_array] = cutted_alpha_new\n",
    "    alpha_new[not_inf_indices_array] = cutted_alpha_new\n",
    "    \n",
    "    beta_numerator = (n - np.sum(cutted_alpha_numerator))\n",
    "    beta_denominator = l2_error(X, t, w)\n",
    "    #print(\" beta num:\", beta_numerator)\n",
    "    #print(\" beta_den:\", beta_denominator)\n",
    "    #print(\" sum:\", np.sum(cutted_alpha_numerator))\n",
    "    #print(\" alpha_num:\", cutted_alpha_numerator)\n",
    "    beta_new = devide(beta_numerator, beta_denominator)\n",
    "\n",
    "\n",
    "    for index, alpha in enumerate(alpha_new):\n",
    "        if is_nan(alpha):\n",
    "            inf_indices.add(index)\n",
    "\n",
    "    return alpha_new, beta_new\n",
    "\n",
    "\n",
    "def fit_rvr(X, t, max_iter=10000, start_beta=1, start_alpha=0):\n",
    "    \"\"\"Train the Relevance Vector Regression model\"\"\"\n",
    "\n",
    "    # YOUR CODE GOES HERE\n",
    "    n, d = X.shape\n",
    "    alpha = np.ones(d) * start_alpha\n",
    "    beta = start_beta\n",
    "    inf_indices = set()\n",
    "    for n_iter in range(max_iter):\n",
    "        alpha, beta = update_alpha_beta(X, t, alpha, beta, inf_indices)\n",
    "    w, sigma = get_w_sigma(X, t, alpha, beta, inf_indices)\n",
    "    \n",
    "    return w, sigma, alpha, beta"
   ]
  },
  {
   "cell_type": "markdown",
   "metadata": {},
   "source": [
    "## Восстановление полинома\n",
    "\n",
    "Здесь решается модельная задача: зашумленным полиномом третьей степени сгенерированы данные для задачи регрессии. Нужно на этих данных обучить многочлен степени, не превышающей 20. Предлагается сравнить три модели: гребневую регрессию, L1-регрессию (Lasso) и RVR, и сравнить ошибку на тестовой выборке и качество отобранных признаков."
   ]
  },
  {
   "cell_type": "code",
   "execution_count": 3,
   "metadata": {
    "scrolled": true
   },
   "outputs": [
    {
     "name": "stderr",
     "output_type": "stream",
     "text": [
      "/usr/lib/python3.6/site-packages/matplotlib/cbook/deprecation.py:107: MatplotlibDeprecationWarning: Adding an axes using the same arguments as a previous axes currently reuses the earlier instance.  In a future version, a new instance will always be created and returned.  Meanwhile, this warning can be suppressed, and the future behavior ensured, by passing a unique label to each axes instance.\n",
      "  warnings.warn(message, mplDeprecation, stacklevel=1)\n"
     ]
    },
    {
     "data": {
      "image/png": "[encoded data removed]",
      "text/plain": [
       "<Figure size 432x288 with 1 Axes>"
      ]
     },
     "metadata": {},
     "output_type": "display_data"
    }
   ],
   "source": [
    "# Data generation\n",
    "\n",
    "def gen_batch(n, w, beta):\n",
    "    d = len(w)\n",
    "    X = np.random.uniform(-10, 10, (n, 1))\n",
    "    X = np.sort(X, axis=0)\n",
    "    X = np.hstack([X ** i for i in range(d)])\n",
    "    t = X.dot(w) + np.random.normal(size=n) / beta ** 0.5\n",
    "    return X, t\n",
    "\n",
    "n = 200\n",
    "d = 30#21\n",
    "w_true = np.zeros(d)\n",
    "w_true[1] = 100\n",
    "w_true[3] = -1\n",
    "beta_true = 1e-4\n",
    "\n",
    "X_train, t_train = gen_batch(n, w_true, beta_true)\n",
    "X_test, t_test = gen_batch(n, w_true, beta_true)\n",
    "\n",
    "# Visualization\n",
    "plt.scatter(X_train[:, 1], t_train, s=3, label='Train data', alpha=0.3)\n",
    "plt.scatter(X_test[:, 1], t_test, s=3, label='Test data', alpha=0.3)\n",
    "plt.plot(X_train[:, 1], X_train.dot(w_true), label='Ground truth')\n",
    "\n",
    "plt.axes().set_xlabel('x')\n",
    "plt.axes().set_ylabel('y')\n",
    "plt.legend(ncol=3, loc=9, bbox_to_anchor=(0.5, 1.15))\n",
    "plt.show()"
   ]
  },
  {
   "cell_type": "code",
   "execution_count": 4,
   "metadata": {},
   "outputs": [
    {
     "name": "stderr",
     "output_type": "stream",
     "text": [
      "/usr/lib/python3.6/site-packages/ipykernel_launcher.py:55: RuntimeWarning: overflow encountered in double_scalars\n"
     ]
    }
   ],
   "source": [
    "# Relevance Vector Regression\n",
    "w_rvr, sigma_rvr, alpha_rvr, beta_rvr = fit_rvr(X_train, t_train)"
   ]
  },
  {
   "cell_type": "code",
   "execution_count": 5,
   "metadata": {},
   "outputs": [],
   "source": [
    "# Ridge Regression with Cross-Validation\n",
    "from sklearn.linear_model import RidgeCV\n",
    "ridge = RidgeCV(cv=20, alphas=10.**np.arange(-6, 3, 1),\n",
    "                fit_intercept=False).fit(X_train, t_train)\n",
    "w_ridge = ridge.coef_\n",
    "clear_output()"
   ]
  },
  {
   "cell_type": "code",
   "execution_count": 6,
   "metadata": {},
   "outputs": [],
   "source": [
    "# Lasso Regression with Cross-Validation\n",
    "from sklearn.linear_model import LassoCV, Lasso\n",
    "lasso = LassoCV(cv=20, alphas=10.**np.arange(-6, 3, 1),\n",
    "                fit_intercept=False).fit(X_train, t_train)\n",
    "w_lasso = lasso.coef_\n",
    "clear_output()"
   ]
  },
  {
   "cell_type": "code",
   "execution_count": 7,
   "metadata": {
    "scrolled": false
   },
   "outputs": [
    {
     "name": "stdout",
     "output_type": "stream",
     "text": [
      "Relevance Vector Regression\n",
      "Features remaining: 3 / 30\n",
      "Train error: 9052.797007400495\n",
      "Test error:  9793.46248118872\n",
      "--------------------------------------------------\n",
      "Ridge Regression\n",
      "Features remaining: NA (no sparsity)\n",
      "Train error: 1122463.6078695157\n",
      "Test error:  1853754.1252574667\n",
      "--------------------------------------------------\n",
      "Lasso Regression\n",
      "Features remaining: 21 / 30\n",
      "Train error: 13764.989896874951\n",
      "Test error:  13517.774700905626\n"
     ]
    },
    {
     "name": "stderr",
     "output_type": "stream",
     "text": [
      "/usr/lib/python3.6/site-packages/matplotlib/cbook/deprecation.py:107: MatplotlibDeprecationWarning: Adding an axes using the same arguments as a previous axes currently reuses the earlier instance.  In a future version, a new instance will always be created and returned.  Meanwhile, this warning can be suppressed, and the future behavior ensured, by passing a unique label to each axes instance.\n",
      "  warnings.warn(message, mplDeprecation, stacklevel=1)\n"
     ]
    },
    {
     "data": {
      "image/png": "[encoded data removed]",
      "text/plain": [
       "<Figure size 432x288 with 1 Axes>"
      ]
     },
     "metadata": {},
     "output_type": "display_data"
    }
   ],
   "source": [
    "# Comparison\n",
    "print('Relevance Vector Regression')\n",
    "print('Features remaining:', np.sum(alpha_rvr < 1e8), '/', d)\n",
    "print('Train error:', l2_error(X_train, t_train, w_rvr) / n)\n",
    "print('Test error: ', l2_error(X_test, t_test, w_rvr) / n)\n",
    "print('-' * 50)\n",
    "print('Ridge Regression')\n",
    "print('Features remaining: NA (no sparsity)')\n",
    "print('Train error:', l2_error(X_train, t_train, w_ridge) / n)\n",
    "print('Test error: ', l2_error(X_test, t_test, w_ridge) / n)\n",
    "print('-' * 50)\n",
    "print('Lasso Regression')\n",
    "print('Features remaining:', np.sum(np.abs(w_lasso) > 1e-20), '/', d)\n",
    "print('Train error:', l2_error(X_train, t_train, w_lasso) / n)\n",
    "print('Test error: ', l2_error(X_test, t_test, w_lasso) / n)\n",
    "\n",
    "plt.scatter(X_train[:, 1], t_train, s=3, label='Train data', alpha=0.3)\n",
    "plt.scatter(X_test[:, 1], t_test, s=3, label='Test data', alpha=0.3)\n",
    "plt.plot(X_train[:, 1], X_train.dot(w_true), label='Ground truth')\n",
    "plt.plot(X_train[:, 1], X_train.dot(w_rvr), label='RVR')\n",
    "plt.plot(X_train[:, 1], X_train.dot(w_ridge), label='Ridge')\n",
    "plt.plot(X_train[:, 1], X_train.dot(w_lasso), label='Lasso')\n",
    "\n",
    "plt.axes().set_xlabel('x')\n",
    "plt.axes().set_ylabel('y')\n",
    "plt.legend(ncol=3, loc=9, bbox_to_anchor=(0.5, 1.25))\n",
    "plt.show()"
   ]
  },
  {
   "cell_type": "markdown",
   "metadata": {},
   "source": [
    "## Регрессия с RBF-признаками\n",
    "\n",
    "Здесь решается другая модельная задача: необходимо восстановить зашумленную функцию `sinc(x)`. Предлагается применить kernel trick с RBF-ядром (можно использовать функцию `sklearn.metrics.pairwise.rbf_kernel`), обучить три модели: SVM-регрессию (SVR), L1-регрессию (Lasso) и RVR, и сравнить ошибку на тестовой выборке и качество отобранных опорных / релевантных объектов."
   ]
  },
  {
   "cell_type": "code",
   "execution_count": 8,
   "metadata": {},
   "outputs": [
    {
     "name": "stderr",
     "output_type": "stream",
     "text": [
      "/usr/lib/python3.6/site-packages/matplotlib/cbook/deprecation.py:107: MatplotlibDeprecationWarning: Adding an axes using the same arguments as a previous axes currently reuses the earlier instance.  In a future version, a new instance will always be created and returned.  Meanwhile, this warning can be suppressed, and the future behavior ensured, by passing a unique label to each axes instance.\n",
      "  warnings.warn(message, mplDeprecation, stacklevel=1)\n"
     ]
    },
    {
     "name": "stdout",
     "output_type": "stream",
     "text": [
      "shape\n",
      "(500, 500)\n",
      "(500, 500)\n"
     ]
    },
    {
     "data": {
      "image/png": "[encoded data removed]",
      "text/plain": [
       "<Figure size 432x288 with 1 Axes>"
      ]
     },
     "metadata": {},
     "output_type": "display_data"
    }
   ],
   "source": [
    "# Генерация данных\n",
    "from sklearn.metrics.pairwise import rbf_kernel\n",
    "\n",
    "def gen_batch(n, beta):\n",
    "    points = np.random.uniform(-5, 5, n)\n",
    "    points = np.sort(points)\n",
    "    t = np.sinc(points) + np.random.normal(size=n) / beta ** 0.5\n",
    "    return points, t\n",
    "\n",
    "n = 500\n",
    "d = 10\n",
    "beta_true = 100\n",
    "\n",
    "points_train, t_train = gen_batch(n, beta_true)\n",
    "points_test, t_test = gen_batch(n, beta_true)\n",
    "\n",
    "# RBF-transform\n",
    "def extend(array):\n",
    "    return np.reshape(array, [-1, 1])\n",
    "\n",
    "\n",
    "#def gen_batch(n, w, beta):\n",
    "#    d = len(w)\n",
    "#    X = np.random.uniform(-10, 10, (n, 1))\n",
    "#    X = np.sort(X, axis=0)\n",
    "#    X = np.hstack([X ** i for i in range(d)])\n",
    "#    t = X.dot(w) + np.random.normal(size=n) / beta ** 0.5\n",
    "#    return X, t\n",
    "\n",
    "\n",
    "def make_X(points, t):\n",
    "    return rbf_kernel(extend(points), extend(points))\n",
    "\n",
    "X_train = make_X(points_train, t_train)\n",
    "X_test = make_X(points_test, t_test)\n",
    "\n",
    "print(\"shape\")\n",
    "print(np.shape(X_train))\n",
    "print(np.shape(X_test))\n",
    "\n",
    "# Constant feature\n",
    "X_train = np.hstack((np.ones((n, 1)), X_train))\n",
    "X_test = np.hstack((np.ones((n, 1)), X_test))\n",
    "\n",
    "# Visualization\n",
    "plt.scatter(points_train, t_train, s=3, label='Train data', alpha=0.3)\n",
    "plt.scatter(points_test, t_test, s=3, label='Test data', alpha=0.3)\n",
    "plt.plot(points_train, np.sinc(points_train), label='Ground truth')\n",
    "\n",
    "plt.axes().set_xlabel('x')\n",
    "plt.axes().set_ylabel('y')\n",
    "plt.legend(ncol=3, loc=9, bbox_to_anchor=(0.5, 1.15))\n",
    "plt.show()"
   ]
  },
  {
   "cell_type": "code",
   "execution_count": 9,
   "metadata": {},
   "outputs": [
    {
     "data": {
      "text/plain": [
       "[<matplotlib.lines.Line2D at 0x7f197fd74f98>]"
      ]
     },
     "execution_count": 9,
     "metadata": {},
     "output_type": "execute_result"
    },
    {
     "data": {
      "image/png": "[encoded data removed]",
      "text/plain": [
       "<Figure size 432x288 with 1 Axes>"
      ]
     },
     "metadata": {},
     "output_type": "display_data"
    }
   ],
   "source": [
    "plt.plot(X_train[:,300])"
   ]
  },
  {
   "cell_type": "code",
   "execution_count": 10,
   "metadata": {},
   "outputs": [
    {
     "name": "stdout",
     "output_type": "stream",
     "text": [
      "--------------------------------------------------\n",
      "[ 7.36615920e+005  0.00000000e+000  1.07993975e-011  4.55160334e+000\n",
      " -8.80410115e+000  0.00000000e+000  0.00000000e+000  2.15567304e-012\n",
      " -3.45703550e-001  1.63397954e-011 -6.60466597e+000  2.58041242e-011\n",
      " -8.41432311e+000  9.37240934e-011  2.46316282e-012  7.77496865e-011\n",
      "  3.90668858e-010  1.57871768e-012  4.53391426e+000  0.00000000e+000\n",
      "  7.10238983e-001  1.64965928e-011  1.37400049e+001  1.63395684e-012\n",
      "  8.49671586e-011  0.00000000e+000  9.77689752e+017  4.42935457e-012\n",
      "  8.93999325e-012  1.13947115e-011  1.77824171e-011  0.00000000e+000\n",
      "  1.86129033e+017  4.79241296e-010  1.03014024e+003  4.13006607e-012\n",
      "  0.00000000e+000  0.00000000e+000  0.00000000e+000  3.44415053e+018\n",
      "  5.93902565e+061 -1.50461231e+016  0.00000000e+000 -5.42310766e+003\n",
      " -6.29431284e+001  0.00000000e+000  1.17342064e-011 -1.08919541e+023\n",
      " -7.92184678e+001  2.02722493e-010  0.00000000e+000  2.24711642e+307\n",
      " -2.49471392e+019  0.00000000e+000 -1.77812405e+017  0.00000000e+000\n",
      "  6.01106388e+015 -8.88809648e+018  5.44963229e-011 -1.03956309e+018\n",
      " -6.10751380e+054 -2.69833693e+047  1.01652225e+020  4.09675186e+016\n",
      "  1.48821075e-011  1.22589006e+002 -8.75332157e-002  0.00000000e+000\n",
      " -9.15424368e+012 -2.83703525e-001  0.00000000e+000  5.01332335e-011\n",
      " -4.68524037e-001  1.00000000e+000  7.74298823e-012  3.25691680e+014\n",
      "  3.12372317e+049  0.00000000e+000  6.54895731e+001  1.80759903e+000\n",
      " -4.31466456e+024  2.69700704e+016  0.00000000e+000  0.00000000e+000\n",
      "  2.85460210e-010  0.00000000e+000  4.46719558e-010  2.93075813e+056\n",
      "  0.00000000e+000  0.00000000e+000  3.75520043e+018 -2.02691059e+018\n",
      "  1.77737485e+015 -1.69323385e-001  0.00000000e+000 -6.11104791e+016\n",
      "  6.29109741e+016  0.00000000e+000 -1.25260563e+019  4.17440977e+017\n",
      " -9.42324205e+016  4.81200490e+018 -2.72772600e+001 -1.99352646e+002\n",
      "  1.34213505e+000  0.00000000e+000  2.07124658e-010  0.00000000e+000\n",
      " -5.56670800e+002 -3.22681641e+017  0.00000000e+000  0.00000000e+000\n",
      " -5.19312090e+050  1.00000000e+000  5.97302499e-010  4.49948305e+016\n",
      "  1.03812427e-009  6.86067069e-011  1.94694609e-010  1.12668753e-010\n",
      "  0.00000000e+000 -3.39431843e+056  5.74938348e-011  1.25220295e+001\n",
      "  0.00000000e+000 -6.41439326e+016  5.07733386e-009  0.00000000e+000\n",
      "  3.47773864e-009 -6.83967867e+057 -2.23915552e+002  2.21499708e+001\n",
      "  9.68350496e+000 -1.92738757e+055  3.80422302e+015  0.00000000e+000\n",
      " -6.50007811e+001 -5.65329060e+001  1.12529329e-010  0.00000000e+000\n",
      "  2.33223310e+000  3.28114625e-011 -2.86725849e+012 -1.91007078e+025\n",
      "  5.44215702e+053  0.00000000e+000  7.63217153e+017  1.49256935e+051\n",
      "  7.35164894e+001 -9.13346567e+001  9.41385955e-012  3.31311478e-011\n",
      "  2.72333530e-011 -6.00604544e+017  1.82581539e+001  1.08517040e+001\n",
      "  8.22837155e+001  0.00000000e+000  4.11952930e-010 -8.97842901e+016\n",
      "  0.00000000e+000  6.37712775e-011  5.18880997e-010  0.00000000e+000\n",
      "  3.36765158e+001  0.00000000e+000 -2.63693633e+000  0.00000000e+000\n",
      " -1.33805807e+017  0.00000000e+000  1.10323918e-010 -2.04365196e+001\n",
      "  0.00000000e+000  0.00000000e+000 -2.82479156e+002 -2.53215472e+000\n",
      " -7.39197930e+003 -1.10940157e+019  1.05270294e+015  0.00000000e+000\n",
      " -2.09171953e+053  0.00000000e+000  3.17544160e+044  0.00000000e+000\n",
      "  2.07710990e+001  1.42604441e-010  0.00000000e+000  1.07349057e-011\n",
      " -3.79990440e+018  8.35191155e+056 -1.01073028e+018  0.00000000e+000\n",
      "  7.85497592e-012  0.00000000e+000  1.50962570e+017  6.70656319e-010\n",
      "  1.76382710e-010  4.88382749e-010  7.55519930e+000  3.01052336e-010\n",
      " -3.09263679e+017  2.52416345e+002 -3.36756726e+016  3.66772533e-011\n",
      "  5.26871847e-011  8.80353548e+000  0.00000000e+000  4.20501769e-008\n",
      "  8.29162396e+021  1.32817533e+060  7.36372283e+051  0.00000000e+000\n",
      "  4.55129081e-011  8.68371697e-008  4.41009291e+000  0.00000000e+000\n",
      "  3.01850951e+021  6.79911950e-011  3.61896206e+001  7.19188892e-011\n",
      "  2.82225087e+020  2.44188231e+002  1.08921285e+001  0.00000000e+000\n",
      "  6.09047269e-011  0.00000000e+000  0.00000000e+000  2.35457522e-011\n",
      " -3.14803004e+002 -5.04876636e+000  6.12918232e-012  3.89022631e+000\n",
      "  0.00000000e+000  1.79728558e-010  2.01102761e-011  4.90764519e+020\n",
      "  2.14887919e+001  0.00000000e+000  2.12061263e+017 -3.56458580e+015\n",
      " -1.79973029e+016 -3.20699589e+000  0.00000000e+000 -2.92081092e+014\n",
      "  1.28936204e+028  1.57671122e+000  5.23203712e+014 -3.96258714e+002\n",
      "  0.00000000e+000 -3.60871095e+003  1.42831064e-010 -5.31837539e+021\n",
      " -7.43214761e+000  1.49158610e+017  1.07988667e-009 -3.58787331e+049\n",
      " -1.90643100e+016  7.83568212e-011  3.29824835e-001  4.06819407e+016\n",
      " -9.73461637e+011  0.00000000e+000  2.30035896e+018  0.00000000e+000\n",
      "  0.00000000e+000 -3.68185933e+018  0.00000000e+000  0.00000000e+000\n",
      "  1.42616656e+021 -1.60431603e+023 -1.62362819e+001  0.00000000e+000\n",
      "  3.36639615e-011 -2.61304997e+023  0.00000000e+000  2.38226296e+019\n",
      "  4.44961645e-011 -2.76495400e+000 -2.08937489e+016  0.00000000e+000\n",
      "  0.00000000e+000  2.59791504e+013  3.10348126e-008  2.75281094e-011\n",
      "  7.86726565e+012  4.63274735e+019 -1.49754972e+014 -3.89676729e+018\n",
      "  0.00000000e+000  2.15204214e+058  0.00000000e+000  2.00142187e-012\n",
      " -5.33608497e+016 -1.81898937e+022  6.61662478e-012  6.70053633e-007\n",
      " -4.78712146e-001  0.00000000e+000  0.00000000e+000  1.59885426e+000\n",
      "  9.29235560e-013 -6.59854308e+145  2.64626740e-012  9.38039860e-012\n",
      "  2.78678623e+000  0.00000000e+000  7.49090300e-012  0.00000000e+000\n",
      "  2.72244618e+130  7.40756266e-002  9.04170316e-010  0.00000000e+000\n",
      " -1.16260246e-001 -2.11829688e+017 -2.95739246e-001  1.41386559e-012\n",
      "  1.00000000e+000 -2.14501515e+016 -6.99230441e+015  1.64617990e-011\n",
      " -7.60730439e+015  0.00000000e+000  0.00000000e+000  1.03966507e-011\n",
      "  0.00000000e+000  2.96627829e-001  3.85154094e-001 -4.91729588e-001\n",
      "  4.26450463e-011  2.75680634e-012 -3.24823387e+056  3.15577803e+017\n",
      "  9.27867792e+017 -5.01904178e-003  5.14457677e-012 -1.12786669e-001\n",
      " -5.45010993e+047  4.70396491e+013  0.00000000e+000  1.33536617e-007\n",
      " -1.56081467e+002  0.00000000e+000 -2.85295107e+015  0.00000000e+000\n",
      "  2.48929586e-011 -1.79279058e-001  4.82232539e+000 -1.57552612e+001\n",
      " -2.80440858e+000 -2.70465233e+002  1.00000000e+000 -1.57195758e+030\n",
      "  0.00000000e+000  4.96625556e-012  1.89580344e-012  0.00000000e+000\n",
      " -2.48033440e+057  1.05917341e-001  0.00000000e+000 -3.88598607e+018\n",
      "  2.86313559e+000  1.53759088e+000  1.39567277e+000  2.09157245e-012\n",
      " -9.08965577e-001  0.00000000e+000 -1.81092734e+000  7.71279927e-012\n",
      "  5.14484299e-012  4.13681282e-013  3.64808945e-009  0.00000000e+000\n",
      "  0.00000000e+000  0.00000000e+000  0.00000000e+000  1.03508567e-011\n",
      " -1.40803502e-001  1.64707931e+016  1.00000000e+000  1.29959209e-011\n",
      "  0.00000000e+000 -5.57232789e+053  0.00000000e+000 -4.17807504e+000\n",
      "  0.00000000e+000  4.07139011e-010  2.17271251e-012  8.24347596e-013\n",
      "  0.00000000e+000  3.31967252e-012  6.97093027e+004 -1.92760618e+018\n",
      "  6.78639592e-012  8.63946091e-013  0.00000000e+000  0.00000000e+000\n",
      "  8.57451859e-002  1.15765915e+018 -3.46685350e-002  2.64928924e-001\n",
      "  9.62446542e-013  1.54488336e-012  7.20069114e-013  6.91055385e-002\n",
      "  6.92792518e-002 -4.77853284e-001 -2.61177364e-001 -2.81577018e+019\n",
      "  4.63922994e-002 -5.04788268e-002  1.78319979e-001  1.43512989e-012\n",
      "  1.52771543e+000 -2.87203488e+022  6.69172390e+001  0.00000000e+000\n",
      "  1.77166370e-012 -2.04690292e+018  1.50836210e-011  7.83195566e-013\n",
      "  0.00000000e+000  1.14415248e+001  1.00000000e+000  0.00000000e+000\n",
      "  6.67607029e-013  9.78252887e-012  0.00000000e+000 -3.22029164e+019\n",
      "  8.46066089e-001  1.32897603e+013  3.45162742e-012 -7.71322160e+058\n",
      "  1.00000000e+000  1.43419127e+001  1.72640203e-001  1.15888159e-001\n",
      "  7.52215689e-002  4.35252835e-002 -1.07904995e+013  4.93354014e+304\n",
      " -1.67111364e+014  0.00000000e+000  0.00000000e+000  7.42811628e+013\n",
      "  8.90433440e-001  6.12362997e+011 -3.88573749e+013  1.36482745e+014\n",
      "  1.11970929e+055  8.24301266e+059  3.99220453e-008  1.47556943e-002\n",
      "  4.35134679e-002 -1.07447704e+017  7.76856826e-001  2.04859305e+000\n",
      "  0.00000000e+000  2.69860471e-001 -1.28316531e+140  7.78071337e-007\n",
      "  2.57638966e+021 -3.91339277e+019  4.61955885e+012  2.51891664e+000\n",
      "  0.00000000e+000  1.51250280e+001  0.00000000e+000 -1.52689105e+015\n",
      " -5.35395264e+070  3.94784133e+013  3.62753871e+013]\n",
      "[1, 2, 5, 6, 7, 9, 11, 13, 14, 15, 16, 17, 19, 21, 23, 24, 25, 27, 28, 29, 30, 31, 33, 35, 36, 37, 38, 42, 45, 46, 49, 50, 53, 55, 58, 64, 67, 70, 71, 74, 77, 82, 83, 84, 85, 86, 88, 89, 94, 97, 105, 106, 107, 110, 111, 114, 116, 117, 118, 119, 120, 122, 124, 126, 127, 128, 135, 138, 139, 141, 145, 150, 151, 152, 157, 158, 160, 161, 162, 163, 165, 167, 169, 170, 172, 173, 179, 181, 183, 185, 186, 187, 191, 192, 193, 195, 196, 197, 199, 203, 204, 206, 207, 211, 212, 213, 215, 217, 219, 223, 224, 225, 226, 227, 230, 232, 233, 234, 237, 242, 248, 250, 254, 257, 261, 263, 264, 266, 267, 271, 272, 274, 276, 279, 280, 282, 283, 288, 290, 291, 294, 295, 297, 298, 300, 302, 303, 305, 306, 307, 310, 311, 315, 319, 321, 322, 323, 324, 328, 329, 334, 338, 339, 341, 343, 344, 352, 353, 354, 355, 358, 363, 365, 367, 368, 369, 370, 371, 372, 373, 374, 375, 379, 380, 382, 384, 385, 386, 387, 388, 389, 392, 393, 394, 395, 400, 401, 402, 411, 415, 416, 418, 419, 420, 423, 424, 425, 426, 430]\n",
      "[nan, nan, nan, nan, nan, nan, nan, nan, nan, nan, nan, nan, nan, nan, nan, nan, nan, nan, nan, nan, nan, nan, nan, nan, nan, nan, nan, nan, nan, nan, nan, nan, nan, nan, nan, nan, nan, nan, nan, nan, nan, nan, nan, nan, nan, nan, nan, nan, nan, nan, nan, nan, nan, nan, nan, nan, nan, nan, nan, nan, nan, nan, nan, nan, nan, nan, nan, nan, nan, nan, nan, nan, nan, nan, nan, nan, nan, nan, nan, nan, nan, nan, nan, nan, nan, nan, nan, nan, nan, nan, nan, nan, nan, nan, nan, nan, nan, nan, nan, nan, nan, nan, nan, nan, nan, nan, nan, nan, nan, nan, nan, nan, nan, nan, nan, nan, nan, nan, nan, nan, nan, nan, nan, nan, nan, nan, nan, nan, nan, nan, nan, nan, nan, nan, nan, nan, nan, nan, nan, nan, nan, nan, nan, nan, nan, nan, nan, nan, nan, nan, nan, nan, nan, nan, nan, nan, nan, nan, nan, nan, nan, nan, nan, nan, nan, nan, nan, nan, nan, nan, nan, nan, nan, nan, nan, nan, nan, nan, nan, nan, nan, nan, nan, nan, nan, nan, nan, nan, nan, nan, nan, nan, nan, nan, nan, nan, nan, nan, nan, nan, nan, nan, nan, nan, nan, nan, nan, nan, nan]\n",
      "[0.0, 1.0799397508746954e-11, 0.0, 0.0, 2.1556730382238283e-12, 1.6339795442575148e-11, 2.580412419917775e-11, 9.372409340383375e-11, 2.4631628213406154e-12, 7.774968650355604e-11, 3.9066885776377035e-10, 1.5787176772364724e-12, 0.0, 1.6496592823201452e-11, 1.6339568368502216e-12, 8.496715864382595e-11, 0.0, 4.429354567272281e-12, 8.939993254505019e-12, 1.1394711473768201e-11, 1.7782417135060656e-11, 0.0, 4.792412957988018e-10, 4.130066067138107e-12, 0.0, 0.0, 0.0, 0.0, 0.0, 1.1734206385125702e-11, 2.0272249349317096e-10, 0.0, 0.0, 0.0, 5.44963228525473e-11, 1.4882107531997133e-11, 0.0, 0.0, 5.0133233500287304e-11, 7.742988232831962e-12, 0.0, 0.0, 0.0, 2.8546021017137385e-10, 0.0, 4.4671955843185833e-10, 0.0, 0.0, 0.0, 0.0, 0.0, 2.0712465769830833e-10, 0.0, 0.0, 0.0, 5.97302498659763e-10, 1.0381242737952851e-09, 6.860670690172241e-11, 1.9469460861193868e-10, 1.1266875310652473e-10, 0.0, 5.7493834828218016e-11, 0.0, 5.0773338600221785e-09, 0.0, 3.477738643789069e-09, 0.0, 1.1252932928027388e-10, 0.0, 3.2811462476590164e-11, 0.0, 9.41385955014891e-12, 3.313114780918018e-11, 2.7233353045523293e-11, 0.0, 4.119529302711127e-10, 0.0, 6.377127751267753e-11, 5.188809972844683e-10, 0.0, 0.0, 0.0, 0.0, 1.1032391757841274e-10, 0.0, 0.0, 0.0, 0.0, 0.0, 1.426044409674728e-10, 0.0, 1.0734905738286167e-11, 0.0, 7.854975918001271e-12, 0.0, 6.706563191418631e-10, 1.763827103978473e-10, 4.883827493590633e-10, 3.0105233577202387e-10, 3.6677253341037255e-11, 5.2687184729570345e-11, 0.0, 4.205017694981064e-08, 0.0, 4.551290811364183e-11, 8.683716968453442e-08, 0.0, 6.799119497948975e-11, 7.19188892367382e-11, 0.0, 6.090472689163074e-11, 0.0, 0.0, 2.3545752212299002e-11, 6.1291823182847374e-12, 0.0, 1.7972855779644278e-10, 2.011027605903798e-11, 0.0, 0.0, 0.0, 1.4283106396240558e-10, 1.0798866695390018e-09, 7.835682121251877e-11, 0.0, 0.0, 0.0, 0.0, 0.0, 0.0, 3.366396145238678e-11, 0.0, 4.4496164453655585e-11, 0.0, 0.0, 3.103481263300545e-08, 2.7528109372260655e-11, 0.0, 0.0, 2.0014218736982678e-12, 6.616624780009736e-12, 6.700536331551399e-07, 0.0, 0.0, 9.292355600359324e-13, 2.6462674027637473e-12, 9.380398597516725e-12, 0.0, 7.49090300018618e-12, 0.0, 9.041703159396578e-10, 0.0, 1.4138655863459237e-12, 1.646179895224037e-11, 0.0, 0.0, 1.0396650727476742e-11, 0.0, 4.2645046316168036e-11, 2.756806340998081e-12, 5.144576773518742e-12, 0.0, 1.3353661652613062e-07, 0.0, 0.0, 2.489295860626501e-11, 0.0, 4.966255555230332e-12, 1.895803436561438e-12, 0.0, 0.0, 2.091572448462611e-12, 0.0, 7.712799265948618e-12, 5.144842988166949e-12, 4.1368128239661894e-13, 3.6480894549284296e-09, 0.0, 0.0, 0.0, 0.0, 1.0350856713126557e-11, 1.2995920890795006e-11, 0.0, 0.0, 0.0, 4.071390110269268e-10, 2.1727125097176445e-12, 8.24347595656431e-13, 0.0, 3.3196725156116163e-12, 6.7863959245535764e-12, 8.639460914059968e-13, 0.0, 0.0, 9.624465415829769e-13, 1.54488336467046e-12, 7.20069114216142e-13, 1.4351298858747992e-12, 0.0, 1.7716637047890666e-12, 1.508362098453831e-11, 7.831955662464179e-13, 0.0, 0.0, 6.676070289738564e-13, 9.782528868035992e-12, 0.0, 3.451627418552115e-12]\n",
      "[nan, nan, nan, nan, nan, nan, nan, nan, nan, nan, nan, nan, nan, nan, nan, nan, nan, nan, nan, nan, nan, nan, nan, nan, nan, nan, nan, nan, nan, nan, nan, nan, nan, nan, nan, nan, nan, nan, nan, nan, nan, nan, nan, nan, nan, nan, nan, nan, nan, nan, nan, nan, nan, nan, nan, nan, nan, nan, nan, nan, nan, nan, nan, nan, nan, nan, nan, nan, nan, nan, nan, nan, nan, nan, nan, nan, nan, nan, nan, nan, nan, nan, nan, nan, nan, nan, nan, nan, nan, nan, nan, nan, nan, nan, nan, nan, nan, nan, nan, nan, nan, nan, nan, nan, nan, nan, nan, nan, nan, nan, nan, nan, nan, nan, nan, nan, nan, nan, nan, nan, nan, nan, nan, nan, nan, nan, nan, nan, nan, nan, nan, nan, nan, nan, nan, nan, nan, nan, nan, nan, nan, nan, nan, nan, nan, nan, nan, nan, nan, nan, nan, nan, nan, nan, nan, nan, nan, nan, nan, nan, nan, nan, nan, nan, nan, nan, nan, nan, nan, nan, nan, nan, nan, nan, nan, nan, nan, nan, nan, nan, nan, nan, nan, nan, nan, nan, nan, nan, nan, nan, nan, nan, nan, nan, nan, nan, nan, nan, nan, nan, nan, nan, nan, nan, nan, nan, nan, nan, nan]\n",
      "--------------------------------------------------\n"
     ]
    },
    {
     "ename": "ValueError",
     "evalue": "array must not contain infs or NaNs",
     "output_type": "error",
     "traceback": [
      "\u001b[0;31m---------------------------------------------------------------------------\u001b[0m",
      "\u001b[0;31mValueError\u001b[0m                                Traceback (most recent call last)",
      "\u001b[0;32m<ipython-input-10-f18bc15a1fc8>\u001b[0m in \u001b[0;36m<module>\u001b[0;34m()\u001b[0m\n\u001b[1;32m      1\u001b[0m \u001b[0;31m# Relevance Vector Regression\u001b[0m\u001b[0;34m\u001b[0m\u001b[0;34m\u001b[0m\u001b[0m\n\u001b[0;32m----> 2\u001b[0;31m \u001b[0mw_rvr\u001b[0m\u001b[0;34m,\u001b[0m \u001b[0msigma_rvr\u001b[0m\u001b[0;34m,\u001b[0m \u001b[0malpha_rvr\u001b[0m\u001b[0;34m,\u001b[0m \u001b[0mbeta_rvr\u001b[0m \u001b[0;34m=\u001b[0m \u001b[0mfit_rvr\u001b[0m\u001b[0;34m(\u001b[0m\u001b[0mX_train\u001b[0m\u001b[0;34m,\u001b[0m \u001b[0mt_train\u001b[0m\u001b[0;34m,\u001b[0m \u001b[0mmax_iter\u001b[0m\u001b[0;34m=\u001b[0m\u001b[0;36m30000\u001b[0m\u001b[0;34m)\u001b[0m\u001b[0;34m\u001b[0m\u001b[0m\n\u001b[0m",
      "\u001b[0;32m<ipython-input-2-0551848dc48d>\u001b[0m in \u001b[0;36mfit_rvr\u001b[0;34m(X, t, max_iter, start_beta, start_alpha)\u001b[0m\n\u001b[1;32m    116\u001b[0m     \u001b[0minf_indices\u001b[0m \u001b[0;34m=\u001b[0m \u001b[0mset\u001b[0m\u001b[0;34m(\u001b[0m\u001b[0;34m)\u001b[0m\u001b[0;34m\u001b[0m\u001b[0m\n\u001b[1;32m    117\u001b[0m     \u001b[0;32mfor\u001b[0m \u001b[0mn_iter\u001b[0m \u001b[0;32min\u001b[0m \u001b[0mrange\u001b[0m\u001b[0;34m(\u001b[0m\u001b[0mmax_iter\u001b[0m\u001b[0;34m)\u001b[0m\u001b[0;34m:\u001b[0m\u001b[0;34m\u001b[0m\u001b[0m\n\u001b[0;32m--> 118\u001b[0;31m         \u001b[0malpha\u001b[0m\u001b[0;34m,\u001b[0m \u001b[0mbeta\u001b[0m \u001b[0;34m=\u001b[0m \u001b[0mupdate_alpha_beta\u001b[0m\u001b[0;34m(\u001b[0m\u001b[0mX\u001b[0m\u001b[0;34m,\u001b[0m \u001b[0mt\u001b[0m\u001b[0;34m,\u001b[0m \u001b[0malpha\u001b[0m\u001b[0;34m,\u001b[0m \u001b[0mbeta\u001b[0m\u001b[0;34m,\u001b[0m \u001b[0minf_indices\u001b[0m\u001b[0;34m)\u001b[0m\u001b[0;34m\u001b[0m\u001b[0m\n\u001b[0m\u001b[1;32m    119\u001b[0m     \u001b[0mw\u001b[0m\u001b[0;34m,\u001b[0m \u001b[0msigma\u001b[0m \u001b[0;34m=\u001b[0m \u001b[0mget_w_sigma\u001b[0m\u001b[0;34m(\u001b[0m\u001b[0mX\u001b[0m\u001b[0;34m,\u001b[0m \u001b[0mt\u001b[0m\u001b[0;34m,\u001b[0m \u001b[0malpha\u001b[0m\u001b[0;34m,\u001b[0m \u001b[0mbeta\u001b[0m\u001b[0;34m,\u001b[0m \u001b[0minf_indices\u001b[0m\u001b[0;34m)\u001b[0m\u001b[0;34m\u001b[0m\u001b[0m\n\u001b[1;32m    120\u001b[0m \u001b[0;34m\u001b[0m\u001b[0m\n",
      "\u001b[0;32m<ipython-input-2-0551848dc48d>\u001b[0m in \u001b[0;36mupdate_alpha_beta\u001b[0;34m(X, t, alpha, beta, inf_indices)\u001b[0m\n\u001b[1;32m     41\u001b[0m \u001b[0;34m\u001b[0m\u001b[0m\n\u001b[1;32m     42\u001b[0m     \u001b[0;31m# YOUR CODE GOES HERE\u001b[0m\u001b[0;34m\u001b[0m\u001b[0;34m\u001b[0m\u001b[0m\n\u001b[0;32m---> 43\u001b[0;31m     \u001b[0mw\u001b[0m\u001b[0;34m,\u001b[0m \u001b[0msigma\u001b[0m \u001b[0;34m=\u001b[0m \u001b[0mget_w_sigma\u001b[0m\u001b[0;34m(\u001b[0m\u001b[0mX\u001b[0m\u001b[0;34m,\u001b[0m \u001b[0mt\u001b[0m\u001b[0;34m,\u001b[0m \u001b[0malpha\u001b[0m\u001b[0;34m,\u001b[0m \u001b[0mbeta\u001b[0m\u001b[0;34m,\u001b[0m \u001b[0minf_indices\u001b[0m\u001b[0;34m)\u001b[0m\u001b[0;34m\u001b[0m\u001b[0m\n\u001b[0m\u001b[1;32m     44\u001b[0m     \u001b[0mn\u001b[0m\u001b[0;34m,\u001b[0m \u001b[0md\u001b[0m \u001b[0;34m=\u001b[0m \u001b[0mnp\u001b[0m\u001b[0;34m.\u001b[0m\u001b[0mshape\u001b[0m\u001b[0;34m(\u001b[0m\u001b[0mX\u001b[0m\u001b[0;34m)\u001b[0m\u001b[0;34m\u001b[0m\u001b[0m\n\u001b[1;32m     45\u001b[0m \u001b[0;34m\u001b[0m\u001b[0m\n",
      "\u001b[0;32m<ipython-input-2-0551848dc48d>\u001b[0m in \u001b[0;36mget_w_sigma\u001b[0;34m(X, t, alpha, beta, inf_indices)\u001b[0m\n\u001b[1;32m     22\u001b[0m     \u001b[0;31m#print(beta * (cutted_X.T @ cutted_X) + np.diag(cutted_alpha))\u001b[0m\u001b[0;34m\u001b[0m\u001b[0;34m\u001b[0m\u001b[0m\n\u001b[1;32m     23\u001b[0m \u001b[0;34m\u001b[0m\u001b[0m\n\u001b[0;32m---> 24\u001b[0;31m     \u001b[0mcutted_sigma\u001b[0m \u001b[0;34m=\u001b[0m \u001b[0minv\u001b[0m\u001b[0;34m(\u001b[0m\u001b[0mbeta\u001b[0m \u001b[0;34m*\u001b[0m \u001b[0;34m(\u001b[0m\u001b[0mcutted_X\u001b[0m\u001b[0;34m.\u001b[0m\u001b[0mT\u001b[0m \u001b[0;34m@\u001b[0m \u001b[0mcutted_X\u001b[0m\u001b[0;34m)\u001b[0m \u001b[0;34m+\u001b[0m \u001b[0mnp\u001b[0m\u001b[0;34m.\u001b[0m\u001b[0mdiag\u001b[0m\u001b[0;34m(\u001b[0m\u001b[0mcutted_alpha\u001b[0m\u001b[0;34m)\u001b[0m\u001b[0;34m)\u001b[0m\u001b[0;34m\u001b[0m\u001b[0m\n\u001b[0m\u001b[1;32m     25\u001b[0m     \u001b[0mcutted_w\u001b[0m \u001b[0;34m=\u001b[0m \u001b[0mbeta\u001b[0m \u001b[0;34m*\u001b[0m \u001b[0mcutted_sigma\u001b[0m \u001b[0;34m@\u001b[0m \u001b[0mcutted_X\u001b[0m\u001b[0;34m.\u001b[0m\u001b[0mT\u001b[0m \u001b[0;34m@\u001b[0m \u001b[0mt\u001b[0m\u001b[0;34m\u001b[0m\u001b[0m\n\u001b[1;32m     26\u001b[0m \u001b[0;34m\u001b[0m\u001b[0m\n",
      "\u001b[0;32m/usr/lib/python3.6/site-packages/scipy/linalg/basic.py\u001b[0m in \u001b[0;36minv\u001b[0;34m(a, overwrite_a, check_finite)\u001b[0m\n\u001b[1;32m    944\u001b[0m \u001b[0;34m\u001b[0m\u001b[0m\n\u001b[1;32m    945\u001b[0m     \"\"\"\n\u001b[0;32m--> 946\u001b[0;31m     \u001b[0ma1\u001b[0m \u001b[0;34m=\u001b[0m \u001b[0m_asarray_validated\u001b[0m\u001b[0;34m(\u001b[0m\u001b[0ma\u001b[0m\u001b[0;34m,\u001b[0m \u001b[0mcheck_finite\u001b[0m\u001b[0;34m=\u001b[0m\u001b[0mcheck_finite\u001b[0m\u001b[0;34m)\u001b[0m\u001b[0;34m\u001b[0m\u001b[0m\n\u001b[0m\u001b[1;32m    947\u001b[0m     \u001b[0;32mif\u001b[0m \u001b[0mlen\u001b[0m\u001b[0;34m(\u001b[0m\u001b[0ma1\u001b[0m\u001b[0;34m.\u001b[0m\u001b[0mshape\u001b[0m\u001b[0;34m)\u001b[0m \u001b[0;34m!=\u001b[0m \u001b[0;36m2\u001b[0m \u001b[0;32mor\u001b[0m \u001b[0ma1\u001b[0m\u001b[0;34m.\u001b[0m\u001b[0mshape\u001b[0m\u001b[0;34m[\u001b[0m\u001b[0;36m0\u001b[0m\u001b[0;34m]\u001b[0m \u001b[0;34m!=\u001b[0m \u001b[0ma1\u001b[0m\u001b[0;34m.\u001b[0m\u001b[0mshape\u001b[0m\u001b[0;34m[\u001b[0m\u001b[0;36m1\u001b[0m\u001b[0;34m]\u001b[0m\u001b[0;34m:\u001b[0m\u001b[0;34m\u001b[0m\u001b[0m\n\u001b[1;32m    948\u001b[0m         \u001b[0;32mraise\u001b[0m \u001b[0mValueError\u001b[0m\u001b[0;34m(\u001b[0m\u001b[0;34m'expected square matrix'\u001b[0m\u001b[0;34m)\u001b[0m\u001b[0;34m\u001b[0m\u001b[0m\n",
      "\u001b[0;32m/usr/lib/python3.6/site-packages/scipy/_lib/_util.py\u001b[0m in \u001b[0;36m_asarray_validated\u001b[0;34m(a, check_finite, sparse_ok, objects_ok, mask_ok, as_inexact)\u001b[0m\n\u001b[1;32m    236\u001b[0m             \u001b[0;32mraise\u001b[0m \u001b[0mValueError\u001b[0m\u001b[0;34m(\u001b[0m\u001b[0;34m'masked arrays are not supported'\u001b[0m\u001b[0;34m)\u001b[0m\u001b[0;34m\u001b[0m\u001b[0m\n\u001b[1;32m    237\u001b[0m     \u001b[0mtoarray\u001b[0m \u001b[0;34m=\u001b[0m \u001b[0mnp\u001b[0m\u001b[0;34m.\u001b[0m\u001b[0masarray_chkfinite\u001b[0m \u001b[0;32mif\u001b[0m \u001b[0mcheck_finite\u001b[0m \u001b[0;32melse\u001b[0m \u001b[0mnp\u001b[0m\u001b[0;34m.\u001b[0m\u001b[0masarray\u001b[0m\u001b[0;34m\u001b[0m\u001b[0m\n\u001b[0;32m--> 238\u001b[0;31m     \u001b[0ma\u001b[0m \u001b[0;34m=\u001b[0m \u001b[0mtoarray\u001b[0m\u001b[0;34m(\u001b[0m\u001b[0ma\u001b[0m\u001b[0;34m)\u001b[0m\u001b[0;34m\u001b[0m\u001b[0m\n\u001b[0m\u001b[1;32m    239\u001b[0m     \u001b[0;32mif\u001b[0m \u001b[0;32mnot\u001b[0m \u001b[0mobjects_ok\u001b[0m\u001b[0;34m:\u001b[0m\u001b[0;34m\u001b[0m\u001b[0m\n\u001b[1;32m    240\u001b[0m         \u001b[0;32mif\u001b[0m \u001b[0ma\u001b[0m\u001b[0;34m.\u001b[0m\u001b[0mdtype\u001b[0m \u001b[0;32mis\u001b[0m \u001b[0mnp\u001b[0m\u001b[0;34m.\u001b[0m\u001b[0mdtype\u001b[0m\u001b[0;34m(\u001b[0m\u001b[0;34m'O'\u001b[0m\u001b[0;34m)\u001b[0m\u001b[0;34m:\u001b[0m\u001b[0;34m\u001b[0m\u001b[0m\n",
      "\u001b[0;32m/usr/lib/python3.6/site-packages/numpy/lib/function_base.py\u001b[0m in \u001b[0;36masarray_chkfinite\u001b[0;34m(a, dtype, order)\u001b[0m\n\u001b[1;32m   1231\u001b[0m     \u001b[0;32mif\u001b[0m \u001b[0ma\u001b[0m\u001b[0;34m.\u001b[0m\u001b[0mdtype\u001b[0m\u001b[0;34m.\u001b[0m\u001b[0mchar\u001b[0m \u001b[0;32min\u001b[0m \u001b[0mtypecodes\u001b[0m\u001b[0;34m[\u001b[0m\u001b[0;34m'AllFloat'\u001b[0m\u001b[0;34m]\u001b[0m \u001b[0;32mand\u001b[0m \u001b[0;32mnot\u001b[0m \u001b[0mnp\u001b[0m\u001b[0;34m.\u001b[0m\u001b[0misfinite\u001b[0m\u001b[0;34m(\u001b[0m\u001b[0ma\u001b[0m\u001b[0;34m)\u001b[0m\u001b[0;34m.\u001b[0m\u001b[0mall\u001b[0m\u001b[0;34m(\u001b[0m\u001b[0;34m)\u001b[0m\u001b[0;34m:\u001b[0m\u001b[0;34m\u001b[0m\u001b[0m\n\u001b[1;32m   1232\u001b[0m         raise ValueError(\n\u001b[0;32m-> 1233\u001b[0;31m             \"array must not contain infs or NaNs\")\n\u001b[0m\u001b[1;32m   1234\u001b[0m     \u001b[0;32mreturn\u001b[0m \u001b[0ma\u001b[0m\u001b[0;34m\u001b[0m\u001b[0m\n\u001b[1;32m   1235\u001b[0m \u001b[0;34m\u001b[0m\u001b[0m\n",
      "\u001b[0;31mValueError\u001b[0m: array must not contain infs or NaNs"
     ]
    }
   ],
   "source": [
    "# Relevance Vector Regression\n",
    "w_rvr, sigma_rvr, alpha_rvr, beta_rvr = fit_rvr(X_train, t_train, max_iter=30000)"
   ]
  },
  {
   "cell_type": "code",
   "execution_count": null,
   "metadata": {},
   "outputs": [],
   "source": [
    "# Lasso Regression with Cross-Validation\n",
    "from sklearn.linear_model import LassoCV\n",
    "lasso = LassoCV(cv=10, alphas=10.**np.arange(-6, 3, 1),\n",
    "                fit_intercept=False).fit(X_train, t_train)\n",
    "w_lasso = lasso.coef_"
   ]
  },
  {
   "cell_type": "code",
   "execution_count": null,
   "metadata": {},
   "outputs": [],
   "source": [
    "# Support Vector Regression\n",
    "from sklearn.svm import SVR\n",
    "svr = SVR(gamma=1, tol=1e-6, C=1).fit(points_train.reshape(-1, 1), t_train)"
   ]
  },
  {
   "cell_type": "code",
   "execution_count": null,
   "metadata": {},
   "outputs": [],
   "source": [
    "# Comparison\n",
    "print('Relevance Vector Regression')\n",
    "print('Objects remaining:', np.sum(alpha_rvr[1:] < 1e8), '/', n)\n",
    "print('Train error:', l2_error(X_train, t_train, w_rvr) / n)\n",
    "print('Test error: ', l2_error(X_test, t_test, w_rvr) / n)\n",
    "print('-' * 50)\n",
    "print('Lasso Regression')\n",
    "print('Objects remaining:', np.sum(np.abs(w_lasso[1:]) > 1e-20), '/', n)\n",
    "print('Train error:', l2_error(X_train, t_train, w_lasso) / n)\n",
    "print('Test error: ', l2_error(X_test, t_test, w_lasso) / n)\n",
    "print('-' * 50)\n",
    "print('Support Vector Regression')\n",
    "print('Objects remaining:', len(svr.support_), '/', n)\n",
    "print('Train error:', np.sum((svr.predict(points_train.reshape(-1, 1)) - t_train) ** 2) / n)\n",
    "print('Test error: ', np.sum((svr.predict(points_test.reshape(-1, 1)) - t_test) ** 2) / n)\n",
    "\n",
    "plt.scatter(points_train, t_train, s=3, label='Train data', alpha=0.3)\n",
    "plt.scatter(points_test, t_test, s=3, label='Test data', alpha=0.3)\n",
    "plt.plot(points_train, np.sinc(points_train), label='Ground truth')\n",
    "plt.plot(points_train, X_train.dot(w_rvr), label='RVR')\n",
    "plt.plot(points_train, X_train.dot(w_lasso), label='Lasso')\n",
    "plt.plot(points_train, svr.predict(points_train.reshape(-1, 1)), label='SVR')\n",
    "\n",
    "plt.axes().set_xlabel('x')\n",
    "plt.axes().set_ylabel('y')\n",
    "plt.legend(ncol=3, loc=9, bbox_to_anchor=(0.5, 1.25))\n",
    "plt.show()"
   ]
  },
  {
   "cell_type": "markdown",
   "metadata": {},
   "source": [
    "### Визуализация релевантных объектов для RVR"
   ]
  },
  {
   "cell_type": "code",
   "execution_count": null,
   "metadata": {},
   "outputs": [],
   "source": [
    "relevant = alpha_rvr[1:] < 1e8\n",
    "plt.scatter(points_train, t_train, s=3, label='Train data', alpha=0.3)\n",
    "plt.scatter(points_train[relevant], t_train[relevant], c='tab:blue', s=30, label='Relevant objects')\n",
    "plt.scatter(points_test, t_test, s=3, label='Test data', alpha=0.3)\n",
    "plt.plot(points_train, np.sinc(points_train), label='Ground truth')\n",
    "plt.plot(points_train, X_train.dot(w_rvr), label='RVR')\n",
    "\n",
    "plt.axes().set_xlabel('x')\n",
    "plt.axes().set_ylabel('y')\n",
    "plt.legend(ncol=3, loc=9, bbox_to_anchor=(0.5, 1.25))\n",
    "plt.show()"
   ]
  },
  {
   "cell_type": "markdown",
   "metadata": {},
   "source": [
    "## Выводы\n",
    "В этом поле опишите свои наблюдения и сформулируйте свои выводы"
   ]
  }
 ],
 "metadata": {
  "kernelspec": {
   "display_name": "Python 3",
   "language": "python",
   "name": "python3"
  },
  "language_info": {
   "codemirror_mode": {
    "name": "ipython",
    "version": 3
   },
   "file_extension": ".py",
   "mimetype": "text/x-python",
   "name": "python",
   "nbconvert_exporter": "python",
   "pygments_lexer": "ipython3",
   "version": "3.6.5"
  }
 },
 "nbformat": 4,
 "nbformat_minor": 2
}
