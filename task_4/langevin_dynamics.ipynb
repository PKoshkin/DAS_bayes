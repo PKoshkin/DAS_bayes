{
 "cells": [
  {
   "cell_type": "markdown",
   "metadata": {
    "deletable": true,
    "editable": true
   },
   "source": [
    "# Лабораторная работа по методам Монте-Карло\n",
    "\n",
    "В рамках данной работы предлагается:\n",
    "- Реализовать динамику Ланжевена для сэмплирования из апостериорного распределения\n",
    "- Реализовать стохастическую динамику Ланжевена для сэмплирования из апостериорного распределения\n",
    "- Применить оба метода на модельной задаче оценки параметров смеси нормальных распределений\n",
    "- Применить стохастическую динамику Ланжевена обучения байесовского ансамбля нейросетевых классификаторов\n",
    "\n",
    "Оценка ставится на основе дополненного кода в ячейках (вычисление градиентов в модельной задаче, динамика Ланжевена и стохастическая динамика Ланжевена), а также ответов на вопросы по экспериментам. Учтите, что на запуск последнего эксперимента может потребоваться около сорока минут.\n",
    "\n",
    "Полезные источники:\n",
    "\n",
    "- Welling M., Teh Y. W. Bayesian learning via stochastic gradient Langevin dynamics //Proceedings of the 28th International Conference on Machine Learning (ICML-11). – 2011. – С. 681-688.\n",
    "- Neal R. M. et al. MCMC using Hamiltonian dynamics //Handbook of Markov Chain Monte Carlo. – 2011. – Т. 2. – №. 11.\n",
    "- Glorot X., Bengio Y. Understanding the difficulty of training deep feedforward neural networks //Proceedings of the Thirteenth International Conference on Artificial Intelligence and Statistics. – 2010. – С. 249-256."
   ]
  },
  {
   "cell_type": "code",
   "execution_count": 1,
   "metadata": {
    "collapsed": true,
    "deletable": true,
    "editable": true
   },
   "outputs": [],
   "source": [
    "import matplotlib.pylab as plt\n",
    "import numpy as np\n",
    "\n",
    "import copy\n",
    "import gzip\n",
    "import os\n",
    "\n",
    "from urllib.request import urlretrieve\n",
    "from scipy.stats import norm\n",
    "from tqdm import tqdm\n",
    "\n",
    "%matplotlib inline"
   ]
  },
  {
   "cell_type": "markdown",
   "metadata": {
    "deletable": true,
    "editable": true
   },
   "source": [
    "# Задача оценки параметров смеси распределений\n",
    "\n",
    "> Рассмотрим вероятностную модель, в которой данные приходят из смеси нормальных распределений:\n",
    "\n",
    ">\\begin{align}\n",
    "& \\theta_1 \\sim N(0,\\sigma_1^2); \\quad \\theta_2 \\sim N(0, \\sigma_2^2) \\\\\n",
    "& \\\\\n",
    "& x_i \\overset{i.i.d.}{\\sim} \\frac{1}{2} N(\\theta_1, \\sigma_x^2) + \\frac{1}{2} N(\\theta_1 + \\theta_2, \\sigma_x^2) \\quad i=1,\\dots,N \\\\\n",
    "\\end{align}\n",
    "\n",
    ">На $\\theta_1$ и $\\theta_2$ введены априорные нормальные распределения, а все остальные параметры полагаются равными\n",
    "\\begin{align}\n",
    "& \\sigma_x^2 = 2 \\\\\n",
    "& \\sigma_1^2 = 10 \\\\\n",
    "& \\sigma_2^2 = 1 \\\\\n",
    "\\end{align}\n",
    "\n",
    ">Требуется по сгеренированной с параметрами $\\theta_1 = 0$, $\\theta_2 = 1$ выборке $X$ из $N=100$ элементов построить сэмплы из апостериорного распределения $p({\\bar \\theta} | X, \\sigma_x, \\sigma_1, \\sigma_2)$.\n",
    "\n",
    "Построим выборку из данного распределения:"
   ]
  },
  {
   "cell_type": "code",
   "execution_count": 2,
   "metadata": {
    "collapsed": false,
    "deletable": true,
    "editable": true
   },
   "outputs": [
    {
     "data": {
      "image/png": "[encoded data removed]",
      "text/plain": [
       "<matplotlib.figure.Figure at 0x10d1e0fd0>"
      ]
     },
     "metadata": {},
     "output_type": "display_data"
    }
   ],
   "source": [
    "def generate_mixture_data(N, theta_1=None, theta_2=None, seed=6):\n",
    "    \"\"\"\n",
    "    Функция геренирует выобрку данного размера из описанной выше вероятностной модели.\n",
    "    В случае, когда для theta_1 или theta_2 передано скалярное значение, вместо случайного\n",
    "    значения параметра из априорного распределения используется переданное значение.\n",
    "    \"\"\"\n",
    "    np.random.seed(seed)\n",
    "    sigma_x = np.sqrt(2.)\n",
    "    if theta_1 is None:\n",
    "        sigma_1 = np.sqrt(10.)\n",
    "        theta_1 = sigma_1 * np.random.randn()\n",
    "    if theta_2 is None:\n",
    "        sigma_2 = 1.\n",
    "        theta_2 = sigma_2 * np.random.randn()\n",
    "    mixture_component = np.random.randint(0, 2, N).astype(np.bool)\n",
    "    first_component = theta_1 + sigma_x * np.random.randn(N)\n",
    "    second_component = (theta_1 + theta_2) + sigma_x * np.random.randn(N)\n",
    "    samples = np.where(mixture_component,\n",
    "                       first_component,\n",
    "                       second_component)\n",
    "    return samples\n",
    "\n",
    "# Пример выборки из описанной выше модели\n",
    "fig, ax = plt.subplots(figsize=(7, 4))\n",
    "ax.hist(generate_mixture_data(2048), bins=50, normed=1)\n",
    "ax.set_xlabel('X')\n",
    "ax.set_ylabel('Empirical probability');"
   ]
  },
  {
   "cell_type": "markdown",
   "metadata": {
    "deletable": true,
    "editable": true
   },
   "source": [
    "Наша главная цель - по полученной при фиксированных значениях $\\theta_1$ и $\\theta_2$ выборке построить апостериорное распределение на их значения.\n",
    "\n",
    "\\begin{equation}\n",
    "p({\\bar \\theta} | X, \\sigma_x, \\sigma_1, \\sigma_2) \\propto \\left[ \\prod_{i=1}^{N} p(X| {\\bar \\theta}, \\sigma_x) \\right] p(\\theta | \\sigma_1, \\sigma_2)\n",
    "\\end{equation}\n",
    "\n",
    "Хотя задача и допускает аналитический подсчет апостериорного распределения, после раскрытия скобок оно будет представлять из себя смесь $2^N$ нормальных распределений. Поэтому даже для такой простой задачи аналитический вывод может оказаться неэффективным на практике.\n",
    "\n",
    "Методы Монте-Карло позволяют получить сэмплы из апостериорного распределения. Для наших целей мы заведем класс, который будет:\n",
    "\n",
    "- хранить точки из апостериорного распределения\n",
    "- вычислять совместное правдоподобие $p(X, {\\bf \\theta})$ по выборке $X$\n",
    "- вычислять градиенты совместного правдоподобия $\\nabla_{\\theta_i} \\log p(X, {\\bf \\theta})$ по выборке X\n",
    "\n",
    "> От вас требуется реализовать методы *_prior_gradients* и *likelihood_gradients*. Оба метода возвращают словарь с градиентами с ключами 'theta_1', 'theta_2'. Последний метод возвращает также пару оценок на дисперсии стохастических градиентов $log p(x_{ti} | \\bar{\\theta})$."
   ]
  },
  {
   "cell_type": "code",
   "execution_count": 3,
   "metadata": {
    "collapsed": true,
    "deletable": true,
    "editable": true
   },
   "outputs": [],
   "source": [
    "class mixture():\n",
    "    def __init__(self, theta_1, theta_2):\n",
    "        \"\"\"\n",
    "        Класс инициализируется парой векторов theta_1, theta_2 длины M\n",
    "        В лабораторной работе мы будем запускать параллельно и независимо M схем Монте-Карло,\n",
    "        обновляя каждый из M скалярных параметров theta_i\n",
    "        \"\"\"\n",
    "        self.sigma_1 = np.sqrt(10.)\n",
    "        self.sigma_2 = 1.\n",
    "        self.sigma_x = np.sqrt(2.)\n",
    "        self.weights = {'theta_1': theta_1,\n",
    "                        'theta_2': theta_2}\n",
    "    \n",
    "    def joint_likelihood(self, x):\n",
    "        \"\"\"\n",
    "        Для выборки x размера N функция возвращает вектор размера M значений\n",
    "        log p(X, theta_1[i], theta_2[i]), i=1, ..., M\n",
    "        \"\"\"\n",
    "        x = x[:, None]\n",
    "        theta_1 = self.weights['theta_1'][None, :]\n",
    "        theta_2 = self.weights['theta_2'][None, :]\n",
    "    \n",
    "        log_n_1 = norm.logpdf(x, theta_1, self.sigma_x)\n",
    "        log_n_2 = norm.logpdf(x, theta_1 + theta_2, self.sigma_x)\n",
    "        log_max = np.where(log_n_1 > log_n_2, log_n_1, log_n_2) # для вычислительной стабильности\n",
    "    \n",
    "        log_data = np.sum(\n",
    "            np.log(0.5 * np.exp(log_n_1 - log_max)\n",
    "                   + 0.5 * np.exp(log_n_2 - log_max)) + log_max,\n",
    "            axis=0\n",
    "        )\n",
    "        log_prior = (\n",
    "            norm.logpdf(theta_1, 0, self.sigma_1)\n",
    "            + norm.logpdf(theta_2, 0, self.sigma_2)\n",
    "        )[0]\n",
    "        return log_data + log_prior\n",
    "    \n",
    "    def joint_likelihood_gradients(self, x, N_over_n=1.):\n",
    "        \"\"\"\n",
    "        Для выборки подвыборки x размера n и отношешения размера полной выборки к размеру подвыборки N_over_n\n",
    "        функция возвращает несмещенную оценку на градиент совместного правдоподобия:\n",
    "        \\nabla_\\theta_i [ \\log p(\\theta) + N_over_n * \\sum_{i = 1}^n log p(x_{ti} | \\theta) ]\n",
    "        По умолчанию выборка считается полной и N_over_n=1.\n",
    "        \"\"\"\n",
    "        prior = self._prior_gradients()\n",
    "        likelihood, _ = self.likelihood_gradients(x)\n",
    "        joint = {}\n",
    "        for key in prior.keys():\n",
    "            joint[key] = prior[key] + N_over_n * likelihood[key]\n",
    "        return joint\n",
    "        \n",
    "    def _prior_gradients(self):\n",
    "        \"\"\"\n",
    "        Возвращает градиенты априорного распределения \\nabla_{\\theta_j} \\log p(\\theta)\n",
    "        \"\"\"\n",
    "        ###################\n",
    "        # Допишите функцию #\n",
    "        ###################\n",
    "        pass\n",
    "        #return {'theta_1': d_theta_1, 'theta_2': d_theta_2}\n",
    "    \n",
    "    def likelihood_gradients(self, x):\n",
    "        \"\"\"\n",
    "        Для выборки x размера n возвращает\n",
    "        1. Градиенты \\nabla_{\\theta_j} [\\sum_{i=1}^n \\log p(x_{ti} | \\theta)]\n",
    "        2. Пару чисел с оценкой на дисперисю градиента \\nabla_{\\theta_j} \\log p(x_{ti} | \\theta)\n",
    "        относительно взятия случайной подвыборки x (например, среднее по параллельным запускам)\n",
    "        \"\"\"\n",
    "        ###################\n",
    "        # Допишите функцию #\n",
    "        ###################\n",
    "        pass\n",
    "        #return {'theta_1': d_theta_1, 'theta_2': d_theta_2}, (var_theta_1, var_theta_2)"
   ]
  },
  {
   "cell_type": "markdown",
   "metadata": {
    "deletable": true,
    "editable": true
   },
   "source": [
    "Согласно задаче, к нам поступает полученная со значениями $\\theta_1=0$ и $\\theta_2=1$ выборка из ста наблюдений $x_i$.\n",
    "\n",
    "Изобразим приближенно плотность аспостериорного распределения в зависимости от числа поступивших наблюдений:"
   ]
  },
  {
   "cell_type": "code",
   "execution_count": 4,
   "metadata": {
    "collapsed": false,
    "deletable": true,
    "editable": true
   },
   "outputs": [
    {
     "data": {
      "image/png": "[encoded data removed]",
      "text/plain": [
       "<matplotlib.figure.Figure at 0x11391bf98>"
      ]
     },
     "metadata": {},
     "output_type": "display_data"
    }
   ],
   "source": [
    "N = 100\n",
    "data = generate_mixture_data(N, theta_1=0, theta_2=1, seed=6)\n",
    "\n",
    "def plot_posterior(axes, data, resolution=100):\n",
    "    theta_1 = np.linspace(-1., 2., resolution)\n",
    "    theta_2 = np.linspace(-2., 2., resolution)\n",
    "    X, Y = np.meshgrid(theta_1, theta_2)\n",
    "    model = mixture(X.reshape(-1), Y.reshape(-1))\n",
    "    Z = np.exp(model.joint_likelihood(data))\n",
    "    norm_const = np.sum(Z) * 3 * 4 / resolution ** 2\n",
    "    Z /= norm_const\n",
    "    Z = Z.reshape((resolution, resolution))\n",
    "\n",
    "    CS = axes.contour(X, Y, Z)\n",
    "    axes.set_xlabel(r'$\\theta_1$')\n",
    "    axes.set_ylabel(r'$\\theta_2$')\n",
    "\n",
    "Ns = [10, 20, 50, 100]\n",
    "fig, axes = plt.subplots(ncols=len(Ns), figsize=(14, 3))\n",
    "data = generate_mixture_data(100, theta_1=0, theta_2=1, seed=6)\n",
    "for n, ax in zip(Ns, axes):\n",
    "    plot_posterior(ax, data[:n])\n",
    "    ax.set_title('N = %d' % n)"
   ]
  },
  {
   "cell_type": "markdown",
   "metadata": {
    "deletable": true,
    "editable": true
   },
   "source": [
    "> У апостериорного распределения на последнем графике можно заметить две ярко выраженные моды. Чем это можно объяснить?"
   ]
  },
  {
   "cell_type": "raw",
   "metadata": {
    "deletable": true,
    "editable": true
   },
   "source": []
  },
  {
   "cell_type": "markdown",
   "metadata": {
    "deletable": true,
    "editable": true
   },
   "source": [
    "> Ниже необходимо реализовать функции для построения сэмплов из апостериорного распределения:\n",
    "\n",
    "> 1. Стохастическая динамика Ланжевена. Для реализации достаточно слегка модифицировать предложенную реализацию градиентного подъема\n",
    "> 2. Динамика Ланжевена с приятием точек по схеме Метрополиса-Гастингса\n",
    "    - Вычисление новых весов\n",
    "    - Подсчет вероятности их принятия (возможно, потребуется создать копию model)\n",
    "    - Случайное принятие части весов"
   ]
  },
  {
   "cell_type": "code",
   "execution_count": null,
   "metadata": {
    "collapsed": true,
    "deletable": true,
    "editable": true
   },
   "outputs": [],
   "source": [
    "def gradient_ascent(x, model, epsilon_t, N_over_n=1.):\n",
    "    \"\"\"\n",
    "    Метод (стохастического) градиентного подъема\n",
    "    \"\"\"\n",
    "    gradients = model.joint_likelihood_gradients(x, N_over_n)\n",
    "    for key in model.weights.keys():\n",
    "        model.weights[key] += 0.5 * epsilon_t * gradients[key]\n",
    "\n",
    "def stochastic_langevin_update(x, model, epsilon_t, N_over_n):\n",
    "    \"\"\"\n",
    "    Обновление весов модели model согласно стохастической динамике Ланжевена по подвыборке x размера n,\n",
    "    с шагом epsilon_t\n",
    "    \"\"\"\n",
    "    ###################\n",
    "    # Допишите функцию #\n",
    "    ###################\n",
    "    pass\n",
    "\n",
    "def langevin_update(x, model, epsilon):\n",
    "    \"\"\"\n",
    "    Обновление весов модели model согласно динамике Ланжевена по выборке x.\n",
    "    Возвращает число от 0 до 1, долю принятых точек из M параллельных запусков динамики.\n",
    "    \"\"\"\n",
    "    ###################\n",
    "    # Допишите функцию #\n",
    "    ###################\n",
    "    pass\n",
    "    #return portion_accepted"
   ]
  },
  {
   "cell_type": "markdown",
   "metadata": {
    "deletable": true,
    "editable": true
   },
   "source": [
    "## Динамика Ланжевена на модельной задаче\n",
    "\n",
    "Для проведения эксперимента определим несколько вспомогательных функций"
   ]
  },
  {
   "cell_type": "code",
   "execution_count": null,
   "metadata": {
    "collapsed": false,
    "deletable": true,
    "editable": true
   },
   "outputs": [],
   "source": [
    "def append_ema(array, value, alpha=0.05):\n",
    "    \"\"\"\n",
    "    Добавление элементов в массив с экспоненциальным сглаживанием\n",
    "    \"\"\"\n",
    "    if not array:\n",
    "        array.append(value)\n",
    "    else:\n",
    "        array.append((1 - alpha) * array[-1] + alpha * value)\n",
    "    return array\n",
    "\n",
    "def train_mixture(data, model, epsilon, n_epochs=2000, n_trajectories=5):\n",
    "    \"\"\"\n",
    "    Построение точек из апостериорного распределения с помощью динамики Ланжевена\n",
    "    Параллельно с построением точек сохраняются траектории n_trajectories точек и динамика\n",
    "    acceptance_rate\n",
    "    \"\"\"\n",
    "    acceptance_rate = []\n",
    "    theta_1_dynamics = []\n",
    "    theta_2_dynamics = []\n",
    "    for epoch in tqdm(range(n_epochs)):\n",
    "        theta_1_dynamics.append(np.copy(model.weights['theta_1'][:n_trajectories]))\n",
    "        theta_2_dynamics.append(np.copy(model.weights['theta_2'][:n_trajectories]))\n",
    "        append_ema(acceptance_rate, langevin_update(data, model, epsilon))\n",
    "    theta_1_dynamics = np.asarray(theta_1_dynamics)\n",
    "    theta_2_dynamics = np.asarray(theta_2_dynamics)\n",
    "    return acceptance_rate, theta_1_dynamics, theta_2_dynamics"
   ]
  },
  {
   "cell_type": "markdown",
   "metadata": {
    "deletable": true,
    "editable": true
   },
   "source": [
    "Запустим M схем Ланжевена с шагом $\\varepsilon = 10^{-3}$ и с шагом $\\varepsilon = 10^{-4}$"
   ]
  },
  {
   "cell_type": "code",
   "execution_count": null,
   "metadata": {
    "collapsed": false,
    "deletable": true,
    "editable": true
   },
   "outputs": [],
   "source": [
    "M = 100\n",
    "\n",
    "model_a = mixture(np.random.randn(M), np.random.randn(M))\n",
    "model_b = mixture(np.random.randn(M), np.random.randn(M))\n",
    "\n",
    "acceptance_rates_a, theta_1_dynamics_a, theta_2_dynamics_a = train_mixture(data, model_a, 1e-3)\n",
    "acceptance_rates_b, theta_1_dynamics_b, theta_2_dynamics_b = train_mixture(data, model_b, 1e-4)"
   ]
  },
  {
   "cell_type": "markdown",
   "metadata": {
    "deletable": true,
    "editable": true
   },
   "source": [
    "В следующей ячейке строится четыре графика:\n",
    "1. Два множества M точек из параллельно запущенных динамик Ланжевена после 2000 итераций\n",
    "2. Динамика пяти точек из схемы с шагом $\\varepsilon=10^{-3}$\n",
    "3. Динамика пяти точек из схемы с шагом $\\varepsilon=10^{-4}$\n",
    "4. Доля принятых точек (из M параллельных динамик) после каждой итерации для разных шагов"
   ]
  },
  {
   "cell_type": "code",
   "execution_count": null,
   "metadata": {
    "collapsed": false,
    "deletable": true,
    "editable": true
   },
   "outputs": [],
   "source": [
    "fig, axes = plt.subplots(nrows=2, ncols=2, figsize=(14, 14))\n",
    "\n",
    "plot_posterior(axes[0][0], data)\n",
    "axes[0][0].scatter(model_a.weights['theta_1'],\n",
    "                model_a.weights['theta_2'],\n",
    "                marker='o',\n",
    "                c='goldenrod',\n",
    "                label=r'$\\varepsilon=10^{-2}$')\n",
    "axes[0][0].scatter(model_b.weights['theta_1'],\n",
    "                model_b.weights['theta_2'],\n",
    "                marker='v',\n",
    "                c='deepskyblue',\n",
    "                label=r'$\\varepsilon=10^{-4}$')\n",
    "axes[0][0].set_title('GLD samples after 2000 steps')\n",
    "axes[0][0].legend(loc='upper right')\n",
    "\n",
    "plot_posterior(axes[0][1], data)\n",
    "plot_posterior(axes[1][0], data)\n",
    "axes[0][1].set_title(r'GLD point dynamics, $\\varepsilon=10^{-3}$')\n",
    "axes[1][0].set_title(r'GLD point dynamics, $\\varepsilon=10^{-4}$')\n",
    "\n",
    "for i in range(5):\n",
    "    axes[0][1].plot(theta_1_dynamics_a[:, i], theta_2_dynamics_a[:, i])\n",
    "    axes[1][0].plot(theta_1_dynamics_b[:, i], theta_2_dynamics_b[:, i])\n",
    "\n",
    "axes[1][1].plot(acceptance_rates_a, label=r'$\\varepsilon=10^{-3}$', ls=':', c='goldenrod')\n",
    "axes[1][1].plot(acceptance_rates_b, label=r'$\\varepsilon=10^{-4}$', ls='-', c='deepskyblue')\n",
    "axes[1][1].set_title('Metropolis-Hastings acceptance rate')\n",
    "axes[1][1].set_xlabel('Epoch')\n",
    "axes[1][1].set_ylabel(r'EMA of acceptance rate, $\\alpha = 0.05$')\n",
    "axes[1][1].legend(loc='lower right');"
   ]
  },
  {
   "cell_type": "markdown",
   "metadata": {
    "deletable": true,
    "editable": true
   },
   "source": [
    "> На основе этих графиков ответьте на следующие вопросы:\n",
    "- Хорошо ли точки покрывают апостериорное распределение?\n",
    "- Удается ли точкам \"перепрыгнуть\" с одной моды на другую?\n",
    "- Как меняется доля принятых точек в зависимости от величины шага?\n",
    "- Исходя из каких соображений стоит выбирать длину шага в динамике Ланжевена?"
   ]
  },
  {
   "cell_type": "raw",
   "metadata": {
    "deletable": true,
    "editable": true
   },
   "source": []
  },
  {
   "cell_type": "markdown",
   "metadata": {
    "deletable": true,
    "editable": true
   },
   "source": [
    "## Стохастическая динамика Ланжевена на модельной задаче\n",
    "\n",
    "Для проведения следующего эксперимента определим еще несколько вспомогательных функций"
   ]
  },
  {
   "cell_type": "code",
   "execution_count": null,
   "metadata": {
    "collapsed": true,
    "deletable": true,
    "editable": true
   },
   "outputs": [],
   "source": [
    "def iterate_data(length, batchsize=100, shuffle=True):\n",
    "    \"\"\"\n",
    "    Функция для прохода по выборке\n",
    "    \"\"\"\n",
    "    indices = np.arange(length)\n",
    "    if shuffle:\n",
    "        np.random.shuffle(indices)\n",
    "    for start_idx in range(0, length - batchsize + 1, batchsize):\n",
    "        yield indices[start_idx:start_idx + batchsize]\n",
    "\n",
    "def stochastic_train_mixture(data, model, method, n_epochs=2000, n=10, n_trajectories=5):\n",
    "    \"\"\"\n",
    "    Построение точек из апостериорного распределения с помощью стохастической динамики Ланжевена\n",
    "    Параллельно с построением точек сохраняются траектории n_trajectories точек после каждой эпохи,\n",
    "    оценки дисперий стохастического градиента и дисперсия добавочного шума динамики Ланжевена\n",
    "    \"\"\"\n",
    "    noise_vars = []\n",
    "    theta_1_vars = []\n",
    "    theta_2_vars = []\n",
    "    theta_1_dynamics = []\n",
    "    theta_2_dynamics = []\n",
    "    N_over_n = len(data) / n\n",
    "    steps_counter = 0\n",
    "    for epochs in tqdm(range(n_epochs)):\n",
    "        epsilon = 1e-2 * (steps_counter + 1e2) ** (-0.55)\n",
    "        for indices in iterate_data(len(data), n):\n",
    "            method(data[indices], model, epsilon, N_over_n)\n",
    "            steps_counter += 1\n",
    "    \n",
    "        theta_1_dynamics.append(np.copy(model.weights['theta_1'][:n_trajectories]))\n",
    "        theta_2_dynamics.append(np.copy(model.weights['theta_2'][:n_trajectories]))\n",
    "        # также как и в статье, оцениваем дисперсии по подвыборке\n",
    "        _, theta_vars = model.likelihood_gradients(data[np.random.choice(N, n)])\n",
    "        theta_1_vars.append(theta_vars[0] * (0.5 * epsilon * N_over_n) ** 2 * n)\n",
    "        theta_2_vars.append(theta_vars[1] * (0.5 * epsilon * N_over_n) ** 2 * n)\n",
    "        noise_vars.append(epsilon)\n",
    "        \n",
    "    theta_1_dynamics = np.asarray(theta_1_dynamics)\n",
    "    theta_2_dynamics = np.asarray(theta_2_dynamics)\n",
    "    \n",
    "    return noise_vars, theta_1_vars, theta_2_vars, theta_1_dynamics, theta_2_dynamics"
   ]
  },
  {
   "cell_type": "markdown",
   "metadata": {
    "deletable": true,
    "editable": true
   },
   "source": [
    "Запустим стохастическую динамику Ланжевена и стохастический градиентный подъем"
   ]
  },
  {
   "cell_type": "code",
   "execution_count": null,
   "metadata": {
    "collapsed": false,
    "deletable": true,
    "editable": true
   },
   "outputs": [],
   "source": [
    "n = 10\n",
    "M = 100 # mcmc chains to run in parallel\n",
    "n_trajectories = 5\n",
    "\n",
    "model_a = mixture(np.random.randn(M), np.random.randn(M))\n",
    "model_b = mixture(np.random.randn(M), np.random.randn(M))\n",
    "\n",
    "noise_vars_a, theta_1_vars_a, theta_2_vars_a, theta_1_dynamics_a, theta_2_dynamics_a = stochastic_train_mixture(\n",
    "    data, model_a, stochastic_langevin_update, n_epochs=2000\n",
    ")\n",
    "\n",
    "_, theta_1_vars_b, theta_2_vars_b, theta_1_dynamics_b, theta_2_dynamics_b = stochastic_train_mixture(\n",
    "    data, model_b, gradient_ascent\n",
    ")"
   ]
  },
  {
   "cell_type": "markdown",
   "metadata": {
    "deletable": true,
    "editable": true
   },
   "source": [
    "В следующей ячейке строятся четыре графика:\n",
    "\n",
    "1. M точек из параллельно запущенных динамик Ланжевена после 2000 эпох и M точек из параллельно замущенных стохастических градиентных спусков после 2000 эпох\n",
    "2. Траектории пяти точек при движении согласно стохастической динамике Ланжевена\n",
    "3. Траектории пять точек при движении в направлении стохастического градиента\n",
    "4. Дисперсии стохастических градиентов и добавочного шума стохастической динамики Ланжевена в зависимости от эпохи"
   ]
  },
  {
   "cell_type": "code",
   "execution_count": null,
   "metadata": {
    "collapsed": false,
    "deletable": true,
    "editable": true
   },
   "outputs": [],
   "source": [
    "fig, axes = plt.subplots(nrows=2, ncols=2, figsize=(14, 14))\n",
    "\n",
    "plot_posterior(axes[0][0], data, 200)\n",
    "axes[0][0].scatter(model_a.weights['theta_1'],\n",
    "                   model_a.weights['theta_2'],\n",
    "                   c='goldenrod',\n",
    "                   label='Stochastic Gradient Langevin Dynamics')\n",
    "axes[0][0].scatter(model_b.weights['theta_1'],\n",
    "                   model_b.weights['theta_2'],\n",
    "                   marker='v',\n",
    "                   c='deepskyblue',\n",
    "                   label='Stochastic Gradient Descent')\n",
    "axes[0][0].set_title('SGD vs. SGLD')\n",
    "axes[0][0].legend(loc='upper right')\n",
    "\n",
    "plot_posterior(axes[0][1], data)\n",
    "plot_posterior(axes[1][0], data)\n",
    "axes[0][1].set_title(r'SGLD point dynamics')\n",
    "axes[1][0].set_title(r'SGD point dynamics')\n",
    "\n",
    "for i in range(5):\n",
    "    axes[0][1].plot(theta_1_dynamics_a[:, i], theta_2_dynamics_a[:, i])\n",
    "    axes[1][0].plot(theta_1_dynamics_b[:, i], theta_2_dynamics_b[:, i])\n",
    "\n",
    "axes[1][1].set_title('Stochstic gradient variance')\n",
    "axes[1][1].set_yscale(\"log\", nonposy='clip')\n",
    "axes[1][1].set_xscale(\"log\", nonposx='clip')\n",
    "axes[1][1].plot(theta_1_vars_a, label=r'SGLD $\\nabla \\theta_1$', c='goldenrod', ls=':')\n",
    "axes[1][1].plot(theta_2_vars_a, label=r'SGLD $\\nabla \\theta_2$', c='deepskyblue', ls=':')\n",
    "axes[1][1].plot(theta_1_vars_b, label=r'SGD $\\nabla \\theta_1$', c='goldenrod', ls='-')\n",
    "axes[1][1].plot(theta_2_vars_b, label=r'SGD $\\nabla \\theta_2$', c='deepskyblue', ls='-')\n",
    "axes[1][1].plot(noise_vars_a, label=r'$\\varepsilon$', c='black')\n",
    "axes[1][1].set_xlabel('Epoch')\n",
    "axes[1][1].set_ylabel('log variance')\n",
    "axes[1][1].legend(loc='lower left');"
   ]
  },
  {
   "cell_type": "markdown",
   "metadata": {
    "deletable": true,
    "editable": true
   },
   "source": [
    "> На основе графиков ответьте на следующие вопросы:\n",
    "1. Хорошо ли представленные точки покрывают апостериорное распределение? Где собираются точки после градиентного подъема?\n",
    "3. Удается ли стохастической динамике Ланжевена \"перепрыгнуть\" с одной моды на другую?\n",
    "4. Как соотносятся дисперсии стохастических градиентов с дисперсией добавленного шума динамики Ланжевена?"
   ]
  },
  {
   "cell_type": "raw",
   "metadata": {
    "deletable": true,
    "editable": true
   },
   "source": []
  },
  {
   "cell_type": "markdown",
   "metadata": {
    "deletable": true,
    "editable": true
   },
   "source": [
    "## Обучение нейросетевых классификаторов с использованием стохастической динамики Ланжевена\n",
    "\n",
    "> Изучив свойства метода на модельной задаче, попробуем с его помощью обучить небольшой классификатор на данных MNIST. Для этого сначала введем вероятностную модель:\n",
    "- Вероятности классов $p(y | X, \\bar{W})$ будет определяться выходами нейронной сети $F(X, \\bar{W})$ с параметрами $\\bar{W}$\n",
    "- В качестве априорного распределения $p(W_i)$ на веса $i$-го слоя $W_i$ будем использовать нормальное распределение $\\mathcal{N}(0, s_i I)$. Ковариация будем определяться размерами матрицы весов слоя $$ s_i = 2 (d_i^{in} + d_i^{out})^{-1}, $$ а для векторов смещения будем полагать $d_i^{in}=0$. Такое распределение часто используется при инициализации весов сети по схеме Глорота.\n",
    "\n",
    "> С точки зрения байесовской статистики наиболее обоснованным подходом к обучению классификатора является построение распределения \n",
    "\\begin{align}\n",
    "p(y' | X', y, X) = \\mathbb E_{p(\\bar{W} | y, X)} p(y' | X', \\bar{W})\n",
    "\\end{align}\n",
    "\n",
    "> К сожалению, для выбранной модели аналитический байесовский вывод невозможен даже на бумаге, поэтому попробуем найти распределение приближенно. В этой работе мы расмотрим два подхода:\n",
    "1. Замена математического ожидания на MAP оценку: $$p(y' | X', y, X) \\approx p(y' | X', \\bar{W}^{MAP}).$$ Здесь ${\\bar W}^{MAP}$ - точка максимума плотности апостериорного распределения.\n",
    "2. Монте-Карло оценка распределения: $$p(y' | X', y, X) \\approx \\frac{1}{N} \\sum_{i=1}^N p(y' | X', \\bar{W}^i), \\quad \\bar{W}^i \\sim p(\\bar{W} | y, X)$$\n",
    "\n",
    "Для экспериментов снова определим класс с параметрами модели:"
   ]
  },
  {
   "cell_type": "code",
   "execution_count": null,
   "metadata": {
    "collapsed": true,
    "deletable": true,
    "editable": true
   },
   "outputs": [],
   "source": [
    "class nnClassifier():\n",
    "    def __init__(self, architecture, batchsize):\n",
    "        \"\"\"\n",
    "        Класс для простой нейронной сети, размеры слоев определяются последовательностью architecture.\n",
    "        При инициализации создается batchsize нейронных сетей, это позволяет в экспериментах одновременно\n",
    "        запускать несколько независимых схем Ланжевена.\n",
    "        \"\"\"\n",
    "        self.batchsize = batchsize\n",
    "        self.depth = len(architecture) - 1\n",
    "        self.architecture = architecture\n",
    "        self.weights = self._glorot_weight_initializer(self.batchsize)\n",
    "        self.gradients = {}\n",
    "    \n",
    "    def predict(self, x, nets_to_use=None):\n",
    "        \"\"\"\n",
    "        Возвращает вектор вероятностей \\sum_{i=1}^N p(y | X, W^i)\n",
    "        Если значение nets_to_use не передано, усреднение берется по всем сетям в классе,\n",
    "        В противном случае используются первые N=nets_to_use сетей\n",
    "        \"\"\"\n",
    "        predictions = self._softmax(self._forward_backward_pass(x, None, False))\n",
    "        nets_to_use = nets_to_use if nets_to_use else self.batchsize\n",
    "        return np.mean(predictions[:, :nets_to_use], axis=1)\n",
    "    \n",
    "    def joint_likelihood_gradients(self, x_and_y, N_over_n):\n",
    "        # joint likelihood gradient\n",
    "        \"\"\"\n",
    "        Для выборк x_and_y возвращает несмещенную оценку на градиент совместного правдоподобия\n",
    "        \"\"\"\n",
    "        x, y = x_and_y\n",
    "        self._forward_backward_pass(x, y, True)\n",
    "        self._add_grolot_prior_gradients(N_over_n)\n",
    "        return self.gradients\n",
    "                                    \n",
    "    def _glorot_weight_initializer(self, batchsize):\n",
    "        \"\"\"\n",
    "        Инициализация весов нейронной сети по схеме Глорота\n",
    "        \"\"\"\n",
    "        weights = {}\n",
    "        for i, d_in, d_out in (zip(range(self.depth),\n",
    "                                   self.architecture[:-1],\n",
    "                                   self.architecture[1:])):\n",
    "            std_w = np.sqrt(2 / (d_out + d_in))\n",
    "            std_b = np.sqrt(2 / (d_out))\n",
    "            W = std_w * np.random.randn(batchsize, d_out, d_in)\n",
    "            b = std_b * np.random.randn(batchsize, d_out)\n",
    "            weights['W_' + str(i)] = W\n",
    "            weights['b_' + str(i)] = b\n",
    "        return weights\n",
    "                                                            \n",
    "    def _softmax(self, activations):\n",
    "        \"\"\"\n",
    "        Вычисление вероятностей по выходам линейного слоя сети\n",
    "        \"\"\"\n",
    "        logit_min = np.min(activations, axis=2, keepdims=True)\n",
    "        logit_exp = np.exp(activations - logit_min)\n",
    "        norm_const = np.sum(logit_exp, axis=2, keepdims=True)\n",
    "        return logit_exp / norm_const\n",
    "    \n",
    "    def _forward_backward_pass(self, x, y, backward_pass):\n",
    "        \"\"\"\n",
    "        Прямой и обратный проход по вычислительному графу. Выполняет прямой проход\n",
    "        по графу вычислений. Если backward_pass=False, возвращает активации последнего слоя.\n",
    "        В противном случае с использованием y выполняет обратный проход, вычисляя градиенты\n",
    "        правдоподобия модели. Затем возвращает активации последнего слоя и градиенты правдоподобия.\n",
    "        \"\"\"\n",
    "        # Forward pass\n",
    "        activations = [x[:, None, :]]\n",
    "        for i in range(self.depth - 1):\n",
    "            W = self.weights['W_' + str(i)]\n",
    "            b = self.weights['b_' + str(i)]\n",
    "            linear = np.einsum('ikj,klj->ikl', activations[-1], W) + b[None, ...]\n",
    "            activations.append(np.tanh(linear))\n",
    "            #activations.append(np.where(linear >= 0, linear, 0))\n",
    "        else:\n",
    "            W = self.weights['W_' + str(self.depth - 1)]\n",
    "            b = self.weights['b_' + str(self.depth - 1)]\n",
    "            output = np.einsum('ikj,klj->ikl', activations[-1], W) + b[None, ...]\n",
    "        \n",
    "        if not backward_pass:\n",
    "            return output\n",
    "        # Backward pass\n",
    "        reverse_activation = y[:, None, :] - self._softmax(output)\n",
    "        for i in range(self.depth - 1, -1, -1):\n",
    "            W = self.weights['W_' + str(i)]\n",
    "            self.gradients['W_' + str(i)] = np.einsum('ikj,ikl->klj',\n",
    "                                                      activations[i],\n",
    "                                                      reverse_activation)\n",
    "            self.gradients['b_' + str(i)] = np.einsum('ikl->kl',\n",
    "                                                      reverse_activation)\n",
    "            reverse_activation = (\n",
    "                (1 - activations[i] ** 2)\n",
    "                #np.where(activations[i] >= 0, 1, 0)\n",
    "                * np.einsum('klj,ikl->ikj', W, reverse_activation)\n",
    "            )\n",
    "            \n",
    "        return output, self.gradients\n",
    "    \n",
    "    def _add_grolot_prior_gradients(self, N_over_n):\n",
    "        \"\"\"\n",
    "        Масштабирует градиенты правдоподобия, добавляя градиенты априорного распределения\n",
    "        \"\"\"\n",
    "        for i, d_in, d_out in (zip(range(self.depth),\n",
    "                                   self.architecture[:-1],\n",
    "                                   self.architecture[1:])):\n",
    "            std_w = np.sqrt(2 / (d_out + d_in))\n",
    "            std_b = np.sqrt(2 / (d_out))\n",
    "            W = self.weights['W_' + str(i)]\n",
    "            b = self.weights['b_' + str(i)]\n",
    "            self.gradients['W_' + str(i)] *= N_over_n\n",
    "            self.gradients['W_' + str(i)] -= W / std_w ** 2\n",
    "            self.gradients['b_' + str(i)] *= N_over_n\n",
    "            self.gradients['b_' + str(i)] -= b / std_b ** 2"
   ]
  },
  {
   "cell_type": "markdown",
   "metadata": {
    "deletable": true,
    "editable": true
   },
   "source": [
    "Определим еще пару вспомогательных функций. Для загрузки данных,"
   ]
  },
  {
   "cell_type": "code",
   "execution_count": null,
   "metadata": {
    "collapsed": true,
    "deletable": true,
    "editable": true
   },
   "outputs": [],
   "source": [
    "def load_mnist():\n",
    "    # Загружаем данные\n",
    "    def download(filename, source='http://yann.lecun.com/exdb/mnist/'):\n",
    "        print(\"Downloading %s\" % filename)\n",
    "        urlretrieve(source + filename, filename)\n",
    "    \n",
    "    def load_mnist_images(filename):\n",
    "        if not os.path.exists(filename):\n",
    "            download(filename)\n",
    "        with gzip.open(filename, 'rb') as f:\n",
    "            data = np.frombuffer(f.read(), np.uint8, offset=16)\n",
    "        data = data.reshape(-1, 28 * 28)\n",
    "        return data / np.float32(256)\n",
    "\n",
    "    def load_mnist_labels(filename):\n",
    "        if not os.path.exists(filename):\n",
    "            download(filename)\n",
    "        with gzip.open(filename, 'rb') as f:\n",
    "            data = np.frombuffer(f.read(), np.uint8, offset=8)\n",
    "        data = np.eye(10)[data]\n",
    "        return data\n",
    "\n",
    "    X_train = load_mnist_images('train-images-idx3-ubyte.gz')\n",
    "    y_train = load_mnist_labels('train-labels-idx1-ubyte.gz')\n",
    "    X_test = load_mnist_images('t10k-images-idx3-ubyte.gz')\n",
    "    y_test = load_mnist_labels('t10k-labels-idx1-ubyte.gz')\n",
    "\n",
    "    return X_train, y_train, X_test, y_test"
   ]
  },
  {
   "cell_type": "markdown",
   "metadata": {
    "deletable": true,
    "editable": true
   },
   "source": [
    "построения MAP оценки,"
   ]
  },
  {
   "cell_type": "code",
   "execution_count": null,
   "metadata": {
    "collapsed": true,
    "deletable": true,
    "editable": true
   },
   "outputs": [],
   "source": [
    "def train_map(load_dataset, net, n_epochs=64, n=100):\n",
    "    x_train, y_train, x_test, y_test = load_dataset()\n",
    "    \n",
    "    N_over_n = x_train.shape[0] / n\n",
    "\n",
    "    network_accuracies = []\n",
    "    \n",
    "    steps_counter = 0\n",
    "    for epoch in tqdm(range(n_epochs)):\n",
    "        # Training\n",
    "        for indices in iterate_data(len(x_train), batchsize=n):\n",
    "            steps_counter += 1\n",
    "            epsilon = 1e-3 * (steps_counter + 1) ** (-0.55)\n",
    "            gradient_ascent((x_train[indices], y_train[indices]), net, epsilon, N_over_n)\n",
    "        # Evaluating\n",
    "        network_accuracy = 0\n",
    "        for indices in iterate_data(len(x_test), batchsize=n, shuffle=False):\n",
    "            net_predictions = net.predict(x_test[indices], 1)\n",
    "            network_accuracy += np.sum(\n",
    "                np.argmax(net_predictions, axis=1) == np.argmax(y_test[indices], axis=1)\n",
    "            ) \n",
    "        network_accuracy /= y_test.shape[0]\n",
    "        network_accuracies.append(network_accuracy)\n",
    "    \n",
    "    return network_accuracies"
   ]
  },
  {
   "cell_type": "markdown",
   "metadata": {
    "deletable": true,
    "editable": true
   },
   "source": [
    "и обучения ансамбля с помощью стохастической динамики Ланжевена."
   ]
  },
  {
   "cell_type": "code",
   "execution_count": null,
   "metadata": {
    "collapsed": true,
    "deletable": true,
    "editable": true
   },
   "outputs": [],
   "source": [
    "def train_networks(load_dataset, net, n_epochs=64, n_warmup_epochs=16, n=100):\n",
    "    x_train, y_train, x_test, y_test = load_dataset()\n",
    "\n",
    "    N_over_n = x_train.shape[0] / n\n",
    "\n",
    "    network_accuracies = []\n",
    "    ensemble_accuracies = []\n",
    "    big_ensemble_accuracies = []\n",
    "    big_ensemble_predictions = np.zeros((y_test.shape[0], 10))\n",
    "\n",
    "    steps_counter = 0\n",
    "    \n",
    "    for epoch in tqdm(range(n_epochs)):\n",
    "        # Training\n",
    "        for indices in iterate_data(len(x_train), batchsize=n):\n",
    "            steps_counter += 1\n",
    "            epsilon = 1e-3 * (steps_counter + 1) ** (-0.55)\n",
    "            stochastic_langevin_update((x_train[indices], y_train[indices]), net, epsilon, N_over_n)\n",
    "        # Evaluating\n",
    "        network_accuracy = 0\n",
    "        ensemble_accuracy = 0\n",
    "        big_ensemble_accuracy = 0\n",
    "        for indices in iterate_data(len(x_test), batchsize=n, shuffle=False):\n",
    "            net_predictions = net.predict(x_test[indices], 1)\n",
    "            ensemble_predictions = net.predict(x_test[indices])\n",
    "            \n",
    "            network_accuracy += np.sum(\n",
    "                np.argmax(net_predictions, axis=1) == np.argmax(y_test[indices], axis=1)\n",
    "            )\n",
    "            ensemble_accuracy += np.sum(\n",
    "                np.argmax(ensemble_predictions, axis=1) == np.argmax(y_test[indices], axis=1)\n",
    "            )\n",
    "            if epoch >= n_warmup_epochs:\n",
    "                big_ensemble_predictions[indices] += (\n",
    "                    ensemble_predictions - big_ensemble_predictions[indices]\n",
    "                ) / (epoch - n_warmup_epochs + 1)\n",
    "                big_ensemble_accuracy += np.sum(\n",
    "                    np.argmax(big_ensemble_predictions[indices], axis=1) == np.argmax(y_test[indices], axis=1)\n",
    "                )\n",
    " \n",
    "        network_accuracy /= y_test.shape[0]\n",
    "        network_accuracies.append(network_accuracy)\n",
    "        \n",
    "        ensemble_accuracy /= y_test.shape[0]\n",
    "        ensemble_accuracies.append(ensemble_accuracy)\n",
    "        \n",
    "        if epoch >= n_warmup_epochs:\n",
    "            big_ensemble_accuracy /= y_test.shape[0]\n",
    "            big_ensemble_accuracies.append(big_ensemble_accuracy)\n",
    "    \n",
    "    return network_accuracies, ensemble_accuracies, big_ensemble_accuracies"
   ]
  },
  {
   "cell_type": "markdown",
   "metadata": {
    "deletable": true,
    "editable": true
   },
   "source": [
    "Мы параллельно запускаем $M$ динамик Ланжевена, следуем динамике $T$ эпох. Веса $m$-ой сети после $t$-ой эпохи обозначим за $\\bar{W}^{mt}$. Приближение $p(y' | X', y, X)$ с помощью сэмплов из апостериорного распределения мы будем строить тремя способами:\n",
    "\n",
    "1. Точечная оценка $$q_1(y) = p(y' | X', W^{mt})$$\n",
    "2. Среднее по независимым запускам $$q_2(y) = \\frac{1}{M} \\sum_{m=1}^M p(y' | X', W^{mt})$$\n",
    "3. Среднее по независимым запускам и эпохам с момента $t_0$ $$q_3(y) = \\frac{1}{M(t - t_0)} \\sum_{m=1}^M \\sum_{t'=t_0}^{t} p(y' | X', W^{mt'})$$\n",
    "\n",
    "Для экономии памяти при вычислении третьей оценки мы будем хранить лишь среднее выходов сети на тестовой выборке с момента t_0 до t'."
   ]
  },
  {
   "cell_type": "code",
   "execution_count": null,
   "metadata": {
    "collapsed": false,
    "deletable": true,
    "editable": true
   },
   "outputs": [],
   "source": [
    "n_epochs = 96\n",
    "n_warmup_epochs = 16 # t_0 в оценке q_3\n",
    "\n",
    "net_map = nnClassifier(architecture=(28 * 28, 18, 14, 10), batchsize=1)\n",
    "net_post = nnClassifier(architecture=(28 * 28, 18, 14, 10), batchsize=5) # M = 5 в оценке q_2 и q_3\n",
    "\n",
    "map_net = train_map(load_mnist, net_map, n_epochs)\n",
    "post_net, post_ensemble, post_big_ensemble = train_networks(\n",
    "    load_mnist, net_post, n_epochs, n_warmup_epochs\n",
    ")"
   ]
  },
  {
   "cell_type": "code",
   "execution_count": null,
   "metadata": {
    "collapsed": false,
    "deletable": true,
    "editable": true,
    "scrolled": false
   },
   "outputs": [],
   "source": [
    "fig, ax = plt.subplots(figsize=(14, 10))\n",
    "\n",
    "ax.plot(map_net, label='MAP network', marker='v', c='red', ls=':')\n",
    "#ax.plot(map_ensemble, label='MAP 5 estimates average', marker='s', c='coral', ls='--')\n",
    "#ax.plot(np.arange(n_warmup_epochs, n_epochs), map_big_ensemble, marker='o',\n",
    "#        label='MAP aggregated prediction', c='y', ls='-')\n",
    "ax.plot(post_net, label='Posterior network, $q_1$', marker='v', c='g', ls=':')\n",
    "ax.plot(post_ensemble, label='Posterior 5 samples, $q_2$', marker='s', c='c', ls='--')\n",
    "ax.plot(np.arange(n_warmup_epochs, n_epochs), post_big_ensemble, marker='o',\n",
    "        label='Posterior aggregated prediction, $q_3$', c='y', ls='-')\n",
    "\n",
    "ax.set_ylabel('Accuracy')\n",
    "ax.set_xlabel('Epoch')\n",
    "\n",
    "ax.grid(True)\n",
    "\n",
    "ax.set_ylim((0.92, 0.98))\n",
    "ax.legend(loc='lower right');"
   ]
  },
  {
   "cell_type": "markdown",
   "metadata": {
    "deletable": true,
    "editable": true
   },
   "source": [
    "> Прокомментируйте результаты экспериментов. Какая из оценок показывает лучшую точность? Худшую? Можно ли сказать, что качество растет с количеством используемых для предсказания моделей?"
   ]
  },
  {
   "cell_type": "raw",
   "metadata": {
    "deletable": true,
    "editable": true
   },
   "source": []
  }
 ],
 "metadata": {
  "kernelspec": {
   "display_name": "Python 3",
   "language": "python",
   "name": "python3"
  },
  "language_info": {
   "codemirror_mode": {
    "name": "ipython",
    "version": 3
   },
   "file_extension": ".py",
   "mimetype": "text/x-python",
   "name": "python",
   "nbconvert_exporter": "python",
   "pygments_lexer": "ipython3",
   "version": "3.5.1"
  }
 },
 "nbformat": 4,
 "nbformat_minor": 2
}
